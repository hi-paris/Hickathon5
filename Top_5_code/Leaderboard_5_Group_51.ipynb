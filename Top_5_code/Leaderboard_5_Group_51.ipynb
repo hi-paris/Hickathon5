{
 "cells": [
  {
   "cell_type": "code",
   "execution_count": 98,
   "metadata": {},
   "outputs": [],
   "source": [
    "from sklearn.preprocessing import MultiLabelBinarizer\n",
    "import numpy as np\n",
    "import pandas as pd\n",
    "import ast\n",
    "import xgboost as xgb\n",
    "from sklearn.model_selection import train_test_split, GridSearchCV\n",
    "from sklearn.metrics import accuracy_score, classification_report, f1_score"
   ]
  },
  {
   "cell_type": "code",
   "execution_count": 99,
   "metadata": {},
   "outputs": [],
   "source": [
    "# Paths to the train/test sets\n",
    "# path_train = \"~/hfactory_magic_folders/water_shortage_prediction/X_train_Hi5.csv\"\n",
    "# path_test = \"~/hfactory_magic_folders/water_shortage_prediction/X_test_Hi5.csv\""
   ]
  },
  {
   "attachments": {},
   "cell_type": "markdown",
   "metadata": {},
   "source": [
    "# Import data"
   ]
  },
  {
   "cell_type": "code",
   "execution_count": null,
   "metadata": {},
   "outputs": [],
   "source": [
    "train_data = pd.read_csv('X_train_Hi5.csv', low_memory=False, index_col='row_index')"
   ]
  },
  {
   "attachments": {},
   "cell_type": "markdown",
   "metadata": {},
   "source": [
    "# Preprocess"
   ]
  },
  {
   "attachments": {},
   "cell_type": "markdown",
   "metadata": {},
   "source": [
    "## Features"
   ]
  },
  {
   "attachments": {},
   "cell_type": "markdown",
   "metadata": {},
   "source": [
    "### Piezo qualification"
   ]
  },
  {
   "attachments": {},
   "cell_type": "markdown",
   "metadata": {},
   "source": [
    "We only keep the rows where the measure is qualified as \"Correct\" or not yet qualified:"
   ]
  },
  {
   "cell_type": "code",
   "execution_count": 282,
   "metadata": {},
   "outputs": [
    {
     "data": {
      "text/plain": [
       "piezo_qualification\n",
       "Correcte        2718869\n",
       "Non qualifié      93199\n",
       "Incorrecte         9462\n",
       "Incertaine         8786\n",
       "Name: count, dtype: int64"
      ]
     },
     "execution_count": 282,
     "metadata": {},
     "output_type": "execute_result"
    }
   ],
   "source": [
    "train_data['piezo_qualification'].value_counts()"
   ]
  },
  {
   "cell_type": "code",
   "execution_count": 447,
   "metadata": {},
   "outputs": [],
   "source": [
    "train_data_filtered = train_data[train_data['piezo_qualification'].isin(['Correcte', 'Non qualifié'])].drop(columns=['piezo_qualification'])"
   ]
  },
  {
   "attachments": {},
   "cell_type": "markdown",
   "metadata": {},
   "source": [
    "### Irrelevant columns"
   ]
  },
  {
   "cell_type": "code",
   "execution_count": 487,
   "metadata": {},
   "outputs": [],
   "source": [
    "columns_to_drop = [\n",
    "    'piezo_station_department_code',\n",
    "    'piezo_station_update_date',\n",
    "    'piezo_station_department_name',\n",
    "    'piezo_station_commune_code_insee',\n",
    "    'piezo_station_pe_label',\n",
    "    'piezo_station_bss_code',\n",
    "    'piezo_station_commune_name',\n",
    "    'piezo_station_bss_id',\n",
    "    'piezo_bss_code',\n",
    "    'piezo_obtention_mode',\n",
    "    'piezo_continuity_code',\n",
    "    'piezo_continuity_name',\n",
    "    'piezo_producer_code',\n",
    "    'piezo_producer_name',\n",
    "    'piezo_measure_nature_code',\n",
    "    'meteo_id',\n",
    "    'meteo_name',\n",
    "    'meteo_date',\n",
    "    'meteo_DRR',\n",
    "    'meteo_temperature_avg_threshold',\n",
    "    'meteo_temperature_min_50cm',\n",
    "    'meteo_pressure_avg',\n",
    "    'meteo_pression_maxi',\n",
    "    'meteo_wind_speed_avg_2m',\n",
    "    'meteo_wind_max_2m',\n",
    "    'meteo_wind_direction_max_inst_2m',\n",
    "    'meteo_time_wind_max_2m',\n",
    "    'meteo_wetting_duration',\n",
    "    'meteo_sunshine_duration',\n",
    "    'meteo_longitude',\n",
    "    'meteo_latitude',\n",
    "    'meteo_radiation',\n",
    "    'meteo_radiation_direct',\n",
    "    'meteo_sunshine_%',\n",
    "    'meteo_radiation_IR',\n",
    "    'meteo_radiation_UV_max',\n",
    "    'meteo_cloudiness',\n",
    "    'meteo_cloudiness_height',\n",
    "    'meteo_if_snow',\n",
    "    'meteo_if_fog',\n",
    "    'meteo_if_thunderstorm',\n",
    "    'meteo_if_sleet',\n",
    "    'meteo_if_hail',\n",
    "    'meteo_if_dew',\n",
    "    'meteo_if_black_ice',\n",
    "    'meteo_if_snow_ground',\n",
    "    'meteo_if_frost',\n",
    "    'meteo_if_smoke',\n",
    "    'meteo_if_mist',\n",
    "    'meteo_if_lightning',\n",
    "    'meteo_evapotranspiration_Monteith',\n",
    "    'meteo_radiation_UV',\n",
    "    'meteo_snow_height',\n",
    "    'meteo_snow_thickness_max',\n",
    "    'meteo_snow_thickness_6h',\n",
    "    'hydro_station_code',\n",
    "    'hydro_observation_date_elab',\n",
    "    'hydro_status_label',\n",
    "    'hydro_method_label',\n",
    "    'hydro_qualification_label',\n",
    "    'hydro_longitude',\n",
    "    'hydro_latitude',\n",
    "    'hydro_hydro_quantity_elab',\n",
    "    'prelev_structure_code_0',\n",
    "    'prelev_volume_obtention_mode_label_0',\n",
    "    'prelev_commune_code_insee_0',\n",
    "    'prelev_structure_code_1',\n",
    "    'prelev_volume_obtention_mode_label_1',\n",
    "    'prelev_commune_code_insee_1',\n",
    "    'prelev_structure_code_2',\n",
    "    'prelev_volume_obtention_mode_label_2',\n",
    "    'prelev_commune_code_insee_2'\n",
    "]"
   ]
  },
  {
   "cell_type": "code",
   "execution_count": null,
   "metadata": {},
   "outputs": [],
   "source": [
    "train_data_filtered = train_data_filtered.drop(columns=columns_to_drop)\n",
    "# train_data_filtered = train_data.drop(columns=columns_to_drop) ### FOR TEST"
   ]
  },
  {
   "attachments": {},
   "cell_type": "markdown",
   "metadata": {},
   "source": [
    "### Date"
   ]
  },
  {
   "attachments": {},
   "cell_type": "markdown",
   "metadata": {},
   "source": [
    "For the date, we apply cyclical encoding:"
   ]
  },
  {
   "cell_type": "code",
   "execution_count": 387,
   "metadata": {},
   "outputs": [
    {
     "data": {
      "text/plain": [
       "row_index\n",
       "0          2020-01-01\n",
       "1          2020-01-01\n",
       "2          2020-01-01\n",
       "3          2020-01-01\n",
       "4          2020-01-01\n",
       "              ...    \n",
       "3294080    2023-05-31\n",
       "3294081    2023-05-31\n",
       "3294082    2023-05-31\n",
       "3294083    2023-05-31\n",
       "3294084    2023-05-31\n",
       "Name: piezo_measurement_date, Length: 2812068, dtype: object"
      ]
     },
     "execution_count": 387,
     "metadata": {},
     "output_type": "execute_result"
    }
   ],
   "source": [
    "train_data_filtered['piezo_measurement_date']"
   ]
  },
  {
   "cell_type": "code",
   "execution_count": 489,
   "metadata": {},
   "outputs": [],
   "source": [
    "train_data_filtered['piezo_measurement_date'] = pd.to_datetime(train_data_filtered['piezo_measurement_date'])\n",
    "train_data_filtered['day_of_year'] = train_data_filtered['piezo_measurement_date'].dt.dayofyear\n",
    "train_data_filtered['day_sin'] = np.sin(2 * np.pi * train_data_filtered['day_of_year'] / 365)\n",
    "train_data_filtered['day_cos'] = np.cos(2 * np.pi * train_data_filtered['day_of_year'] / 365)\n",
    "\n",
    "train_data_filtered['month'] = train_data_filtered['piezo_measurement_date'].dt.month\n",
    "train_data_filtered['year'] = train_data_filtered['piezo_measurement_date'].dt.year"
   ]
  },
  {
   "cell_type": "code",
   "execution_count": 490,
   "metadata": {},
   "outputs": [],
   "source": [
    "train_data_filtered = train_data_filtered[train_data_filtered['piezo_measurement_date'].dt.month.between(3, 10)]"
   ]
  },
  {
   "cell_type": "code",
   "execution_count": 491,
   "metadata": {},
   "outputs": [],
   "source": [
    "train_data_filtered = train_data_filtered.drop(columns=['piezo_measurement_date', 'day_of_year'])"
   ]
  },
  {
   "attachments": {},
   "cell_type": "markdown",
   "metadata": {},
   "source": [
    "### BDLISA code"
   ]
  },
  {
   "cell_type": "code",
   "execution_count": 492,
   "metadata": {},
   "outputs": [],
   "source": [
    "eh_code_prefix_to_category = {\n",
    "    '101': 'Sands', '104': 'Sands', '107': 'Limestones', '110': 'Marls', \n",
    "    '113': 'Limestones', '117': 'Other', '119': 'Other', '121': 'Other', \n",
    "    '123': 'Marls', '125': 'Marls', '127': 'Sands', '131': 'Limestones', \n",
    "    '133': 'Marls', '135': 'Limestones', '137': 'Marls', '139': 'Limestones', \n",
    "    '141': 'Marls', '143': 'Gravel', '144': 'Sands', '145': 'Other', \n",
    "    '147': 'Gravel', '149': 'Limestones', '151': 'Massif', '153': 'Massif', \n",
    "    '154': 'Massif', '155': 'Massif', '156': 'Massif', '158': 'Massif', \n",
    "    '159': 'Massif', '160': 'Massif', '161': 'Sands', '163': 'Massif', \n",
    "    '164': 'Other', '165': 'Other', '167': 'Other', '169': 'Massif', \n",
    "    '170': 'Massif', '171': 'Massif', '173': 'Other', '174': 'Basement', \n",
    "    '175': 'Basement', '177': 'Basement', '179': 'Basement', '181': 'Basement', \n",
    "    '183': 'Basement', '185': 'Basement', '186': 'Basement', '187': 'Basement', \n",
    "    '189': 'Other', '191': 'Other', '193': 'Other', '195': 'Other', \n",
    "    '197': 'Other', '199': 'Other', '201': 'Basement', '203': 'Basement', \n",
    "    '205': 'Basement', '206': 'Basement', '207': 'Basement', '208': 'Basement', \n",
    "    '211': 'Other', '221': 'Alluvions', '222': 'Alluvions', '223': 'Other', \n",
    "    '225': 'Paleogeological Epochs', '226': 'Gravel', '227': 'Marls', \n",
    "    '230': 'Gravel', '231': 'Basement', '233': 'Volcanic', '306': 'Gravel', \n",
    "    '308': 'Sands', '312': 'Sands', '316': 'Sands', '318': 'Paleogeological Epochs', \n",
    "    '320': 'Limestones', '322': 'Paleogeological Epochs', '324': 'Limestones', \n",
    "    '326': 'Marls', '328': 'Marls', '330': 'Marls', '332': 'Massif', \n",
    "    '334': 'Gravel', '338': 'Other', '340': 'Marls', '342': 'Other', \n",
    "    '344': 'Limestones', '346': 'Marls', '348': 'Limestones', '350': 'Gravel', \n",
    "    '352': 'Limestones', '356': 'Marls', '358': 'Limestones', '359': 'Limestones', \n",
    "    '360': 'Marls', '362': 'Limestones', '364': 'Geological Epochs', '366': 'Gravel', \n",
    "    '368': 'Gravel', '370': 'Basement', '372': 'Basement', '374': 'Basement', \n",
    "    '400': 'Limestones', '402': 'Limestones', '404': 'Massif', '502': 'Other', \n",
    "    '505': 'Other', '507': 'Other', '509': 'Paleogeological Epochs', '513': 'Limestones', \n",
    "    '515': 'Limestones', '516': 'Other', '517': 'Limestones', '519': 'Marls', \n",
    "    '521': 'Other', '523': 'Limestones', '525': 'Other', '527': 'Basement', \n",
    "    '529': 'Paleogeological Epochs', '531': 'Limestones', '533': 'Limestones', \n",
    "    '534': 'Limestones', '548': 'Marls', '561': 'Other', '563': 'Other', \n",
    "    '565': 'Limestones', '567': 'Massif', '569': 'Limestones', '571': 'Limestones', \n",
    "    '573': 'Geological Epochs', '577': 'Marls', '581': 'Massif', '583': 'Marls', \n",
    "    '585': 'Marls', '600': 'Paleogeological Epochs', '602': 'Basement', \n",
    "    '604': 'Basement', '621': 'Limestones', '631': 'Limestones', '643': 'Marls', \n",
    "    '647': 'Alluvions', '651': 'Limestones', '657': 'Other', '671': 'Alluvions', \n",
    "    '679': 'Marls', '681': 'Marls', '691': 'Basement', '693': 'Basement', \n",
    "    '699': 'Basement', '710': 'Alluvions', '712': 'Alluvions', '714': 'Alluvions', \n",
    "    '716': 'Alluvions', '718': 'Alluvions', '719': 'Alluvions', '720': 'Alluvions', \n",
    "    '901': 'Basement', '902': 'Sands', '910': 'Alluvions', '912': 'Alluvions', \n",
    "    '914': 'Alluvions', '916': 'Alluvions', '918': 'Alluvions', '920': 'Alluvions', \n",
    "    '922': 'Alluvions', '924': 'Alluvions', '926': 'Alluvions', '928': 'Alluvions', \n",
    "    '930': 'Alluvions', '932': 'Alluvions', '935': 'Alluvions', '936': 'Alluvions', \n",
    "    '937': 'Alluvions', '938': 'Alluvions', '940': 'Alluvions', '942': 'Alluvions', \n",
    "    '944': 'Alluvions', '946': 'Alluvions', '948': 'Alluvions', '949': 'Alluvions', \n",
    "    '950': 'Alluvions', '952': 'Alluvions', '954': 'Alluvions', '971': 'Volcanic', \n",
    "    '972': 'Volcanic', '974': 'Volcanic', '976': 'Volcanic'\n",
    "}"
   ]
  },
  {
   "cell_type": "code",
   "execution_count": 493,
   "metadata": {},
   "outputs": [],
   "source": [
    "def map_code_to_category(code):\n",
    "    prefix = str(code)[:3]\n",
    "    return eh_code_prefix_to_category.get(prefix, 'Other')"
   ]
  },
  {
   "cell_type": "code",
   "execution_count": 494,
   "metadata": {},
   "outputs": [],
   "source": [
    "def map_codes_in_list(codes_list):\n",
    "    return [map_code_to_category(code) for code in codes_list]"
   ]
  },
  {
   "cell_type": "code",
   "execution_count": 495,
   "metadata": {},
   "outputs": [],
   "source": [
    "def safe_eval(value):\n",
    "    if isinstance(value, str):\n",
    "        try:\n",
    "            return ast.literal_eval(value)\n",
    "        except (ValueError, SyntaxError):\n",
    "            return []\n",
    "    else:\n",
    "        return []"
   ]
  },
  {
   "cell_type": "code",
   "execution_count": 496,
   "metadata": {},
   "outputs": [],
   "source": [
    "train_data_filtered['Mapped_Category'] = train_data_filtered['piezo_station_bdlisa_codes'].apply(lambda x: map_codes_in_list(safe_eval(x)))"
   ]
  },
  {
   "cell_type": "code",
   "execution_count": 497,
   "metadata": {},
   "outputs": [
    {
     "data": {
      "text/html": [
       "<div>\n",
       "<style scoped>\n",
       "    .dataframe tbody tr th:only-of-type {\n",
       "        vertical-align: middle;\n",
       "    }\n",
       "\n",
       "    .dataframe tbody tr th {\n",
       "        vertical-align: top;\n",
       "    }\n",
       "\n",
       "    .dataframe thead th {\n",
       "        text-align: right;\n",
       "    }\n",
       "</style>\n",
       "<table border=\"1\" class=\"dataframe\">\n",
       "  <thead>\n",
       "    <tr style=\"text-align: right;\">\n",
       "      <th></th>\n",
       "      <th>piezo_station_investigation_depth</th>\n",
       "      <th>piezo_station_bdlisa_codes</th>\n",
       "      <th>piezo_station_altitude</th>\n",
       "      <th>piezo_station_longitude</th>\n",
       "      <th>piezo_station_latitude</th>\n",
       "      <th>piezo_status</th>\n",
       "      <th>piezo_qualification</th>\n",
       "      <th>piezo_measure_nature_name</th>\n",
       "      <th>meteo_altitude</th>\n",
       "      <th>meteo_rain_height</th>\n",
       "      <th>...</th>\n",
       "      <th>Alluvions</th>\n",
       "      <th>Basement</th>\n",
       "      <th>Geological Epochs</th>\n",
       "      <th>Gravel</th>\n",
       "      <th>Limestones</th>\n",
       "      <th>Marls</th>\n",
       "      <th>Massif</th>\n",
       "      <th>Other</th>\n",
       "      <th>Paleogeological Epochs</th>\n",
       "      <th>Sands</th>\n",
       "    </tr>\n",
       "    <tr>\n",
       "      <th>row_index</th>\n",
       "      <th></th>\n",
       "      <th></th>\n",
       "      <th></th>\n",
       "      <th></th>\n",
       "      <th></th>\n",
       "      <th></th>\n",
       "      <th></th>\n",
       "      <th></th>\n",
       "      <th></th>\n",
       "      <th></th>\n",
       "      <th></th>\n",
       "      <th></th>\n",
       "      <th></th>\n",
       "      <th></th>\n",
       "      <th></th>\n",
       "      <th></th>\n",
       "      <th></th>\n",
       "      <th></th>\n",
       "      <th></th>\n",
       "      <th></th>\n",
       "      <th></th>\n",
       "    </tr>\n",
       "  </thead>\n",
       "  <tbody>\n",
       "    <tr>\n",
       "      <th>2331795</th>\n",
       "      <td>20.00</td>\n",
       "      <td>['712AH37']</td>\n",
       "      <td>232.00</td>\n",
       "      <td>5.748241</td>\n",
       "      <td>45.828148</td>\n",
       "      <td>Donnée contrôlée niveau 2</td>\n",
       "      <td>Correcte</td>\n",
       "      <td>Naturel</td>\n",
       "      <td>330</td>\n",
       "      <td>7.4</td>\n",
       "      <td>...</td>\n",
       "      <td>1</td>\n",
       "      <td>0</td>\n",
       "      <td>0</td>\n",
       "      <td>0</td>\n",
       "      <td>0</td>\n",
       "      <td>0</td>\n",
       "      <td>0</td>\n",
       "      <td>0</td>\n",
       "      <td>0</td>\n",
       "      <td>0</td>\n",
       "    </tr>\n",
       "    <tr>\n",
       "      <th>2331796</th>\n",
       "      <td>35.60</td>\n",
       "      <td>['712GB05']</td>\n",
       "      <td>247.25</td>\n",
       "      <td>5.356637</td>\n",
       "      <td>46.028102</td>\n",
       "      <td>Donnée contrôlée niveau 2</td>\n",
       "      <td>Correcte</td>\n",
       "      <td>Naturel</td>\n",
       "      <td>250</td>\n",
       "      <td>3.4</td>\n",
       "      <td>...</td>\n",
       "      <td>1</td>\n",
       "      <td>0</td>\n",
       "      <td>0</td>\n",
       "      <td>0</td>\n",
       "      <td>0</td>\n",
       "      <td>0</td>\n",
       "      <td>0</td>\n",
       "      <td>0</td>\n",
       "      <td>0</td>\n",
       "      <td>0</td>\n",
       "    </tr>\n",
       "    <tr>\n",
       "      <th>2331797</th>\n",
       "      <td>35.22</td>\n",
       "      <td>['040AJ43']</td>\n",
       "      <td>218.77</td>\n",
       "      <td>5.220795</td>\n",
       "      <td>45.895734</td>\n",
       "      <td>Donnée contrôlée niveau 2</td>\n",
       "      <td>Correcte</td>\n",
       "      <td>Naturel</td>\n",
       "      <td>196</td>\n",
       "      <td>NaN</td>\n",
       "      <td>...</td>\n",
       "      <td>0</td>\n",
       "      <td>0</td>\n",
       "      <td>0</td>\n",
       "      <td>0</td>\n",
       "      <td>0</td>\n",
       "      <td>0</td>\n",
       "      <td>0</td>\n",
       "      <td>1</td>\n",
       "      <td>0</td>\n",
       "      <td>0</td>\n",
       "    </tr>\n",
       "    <tr>\n",
       "      <th>2331798</th>\n",
       "      <td>34.20</td>\n",
       "      <td>['516AA00', '516AF00']</td>\n",
       "      <td>499.85</td>\n",
       "      <td>5.948977</td>\n",
       "      <td>46.201180</td>\n",
       "      <td>Donnée contrôlée niveau 2</td>\n",
       "      <td>Correcte</td>\n",
       "      <td>Naturel</td>\n",
       "      <td>1133</td>\n",
       "      <td>12.8</td>\n",
       "      <td>...</td>\n",
       "      <td>0</td>\n",
       "      <td>0</td>\n",
       "      <td>0</td>\n",
       "      <td>0</td>\n",
       "      <td>0</td>\n",
       "      <td>0</td>\n",
       "      <td>0</td>\n",
       "      <td>1</td>\n",
       "      <td>0</td>\n",
       "      <td>0</td>\n",
       "    </tr>\n",
       "    <tr>\n",
       "      <th>2331799</th>\n",
       "      <td>37.30</td>\n",
       "      <td>['507AB00']</td>\n",
       "      <td>260.00</td>\n",
       "      <td>5.313353</td>\n",
       "      <td>46.136402</td>\n",
       "      <td>Donnée contrôlée niveau 2</td>\n",
       "      <td>Correcte</td>\n",
       "      <td>Naturel</td>\n",
       "      <td>260</td>\n",
       "      <td>2.2</td>\n",
       "      <td>...</td>\n",
       "      <td>0</td>\n",
       "      <td>0</td>\n",
       "      <td>0</td>\n",
       "      <td>0</td>\n",
       "      <td>0</td>\n",
       "      <td>0</td>\n",
       "      <td>0</td>\n",
       "      <td>1</td>\n",
       "      <td>0</td>\n",
       "      <td>0</td>\n",
       "    </tr>\n",
       "    <tr>\n",
       "      <th>...</th>\n",
       "      <td>...</td>\n",
       "      <td>...</td>\n",
       "      <td>...</td>\n",
       "      <td>...</td>\n",
       "      <td>...</td>\n",
       "      <td>...</td>\n",
       "      <td>...</td>\n",
       "      <td>...</td>\n",
       "      <td>...</td>\n",
       "      <td>...</td>\n",
       "      <td>...</td>\n",
       "      <td>...</td>\n",
       "      <td>...</td>\n",
       "      <td>...</td>\n",
       "      <td>...</td>\n",
       "      <td>...</td>\n",
       "      <td>...</td>\n",
       "      <td>...</td>\n",
       "      <td>...</td>\n",
       "      <td>...</td>\n",
       "      <td>...</td>\n",
       "    </tr>\n",
       "    <tr>\n",
       "      <th>3610818</th>\n",
       "      <td>24.00</td>\n",
       "      <td>['121AZ01']</td>\n",
       "      <td>63.00</td>\n",
       "      <td>1.711584</td>\n",
       "      <td>49.197517</td>\n",
       "      <td>Donnée contrôlée niveau 2</td>\n",
       "      <td>Correcte</td>\n",
       "      <td>Naturel</td>\n",
       "      <td>105</td>\n",
       "      <td>0.0</td>\n",
       "      <td>...</td>\n",
       "      <td>0</td>\n",
       "      <td>0</td>\n",
       "      <td>0</td>\n",
       "      <td>0</td>\n",
       "      <td>0</td>\n",
       "      <td>0</td>\n",
       "      <td>0</td>\n",
       "      <td>1</td>\n",
       "      <td>0</td>\n",
       "      <td>0</td>\n",
       "    </tr>\n",
       "    <tr>\n",
       "      <th>3610819</th>\n",
       "      <td>25.50</td>\n",
       "      <td>['113AQ27']</td>\n",
       "      <td>103.00</td>\n",
       "      <td>1.901276</td>\n",
       "      <td>49.145695</td>\n",
       "      <td>Donnée contrôlée niveau 2</td>\n",
       "      <td>Correcte</td>\n",
       "      <td>Naturel</td>\n",
       "      <td>105</td>\n",
       "      <td>0.0</td>\n",
       "      <td>...</td>\n",
       "      <td>0</td>\n",
       "      <td>0</td>\n",
       "      <td>0</td>\n",
       "      <td>0</td>\n",
       "      <td>1</td>\n",
       "      <td>0</td>\n",
       "      <td>0</td>\n",
       "      <td>0</td>\n",
       "      <td>0</td>\n",
       "      <td>0</td>\n",
       "    </tr>\n",
       "    <tr>\n",
       "      <th>3610820</th>\n",
       "      <td>30.00</td>\n",
       "      <td>['121AP01']</td>\n",
       "      <td>83.00</td>\n",
       "      <td>1.897576</td>\n",
       "      <td>49.083846</td>\n",
       "      <td>Donnée contrôlée niveau 2</td>\n",
       "      <td>Correcte</td>\n",
       "      <td>Naturel</td>\n",
       "      <td>105</td>\n",
       "      <td>0.0</td>\n",
       "      <td>...</td>\n",
       "      <td>0</td>\n",
       "      <td>0</td>\n",
       "      <td>0</td>\n",
       "      <td>0</td>\n",
       "      <td>0</td>\n",
       "      <td>0</td>\n",
       "      <td>0</td>\n",
       "      <td>1</td>\n",
       "      <td>0</td>\n",
       "      <td>0</td>\n",
       "    </tr>\n",
       "    <tr>\n",
       "      <th>3610821</th>\n",
       "      <td>630.00</td>\n",
       "      <td>['127AA99']</td>\n",
       "      <td>24.00</td>\n",
       "      <td>2.209806</td>\n",
       "      <td>49.105985</td>\n",
       "      <td>Donnée contrôlée niveau 2</td>\n",
       "      <td>Correcte</td>\n",
       "      <td>Naturel</td>\n",
       "      <td>171</td>\n",
       "      <td>0.2</td>\n",
       "      <td>...</td>\n",
       "      <td>0</td>\n",
       "      <td>0</td>\n",
       "      <td>0</td>\n",
       "      <td>0</td>\n",
       "      <td>0</td>\n",
       "      <td>0</td>\n",
       "      <td>0</td>\n",
       "      <td>0</td>\n",
       "      <td>0</td>\n",
       "      <td>1</td>\n",
       "    </tr>\n",
       "    <tr>\n",
       "      <th>3610822</th>\n",
       "      <td>104.00</td>\n",
       "      <td>['113AQ27', '113AV01']</td>\n",
       "      <td>131.00</td>\n",
       "      <td>2.488424</td>\n",
       "      <td>49.069086</td>\n",
       "      <td>Donnée contrôlée niveau 1</td>\n",
       "      <td>Correcte</td>\n",
       "      <td>Inconnue</td>\n",
       "      <td>141</td>\n",
       "      <td>0.2</td>\n",
       "      <td>...</td>\n",
       "      <td>0</td>\n",
       "      <td>0</td>\n",
       "      <td>0</td>\n",
       "      <td>0</td>\n",
       "      <td>1</td>\n",
       "      <td>0</td>\n",
       "      <td>0</td>\n",
       "      <td>0</td>\n",
       "      <td>0</td>\n",
       "      <td>0</td>\n",
       "    </tr>\n",
       "  </tbody>\n",
       "</table>\n",
       "<p>611208 rows × 76 columns</p>\n",
       "</div>"
      ],
      "text/plain": [
       "           piezo_station_investigation_depth piezo_station_bdlisa_codes  \\\n",
       "row_index                                                                 \n",
       "2331795                                20.00                ['712AH37']   \n",
       "2331796                                35.60                ['712GB05']   \n",
       "2331797                                35.22                ['040AJ43']   \n",
       "2331798                                34.20     ['516AA00', '516AF00']   \n",
       "2331799                                37.30                ['507AB00']   \n",
       "...                                      ...                        ...   \n",
       "3610818                                24.00                ['121AZ01']   \n",
       "3610819                                25.50                ['113AQ27']   \n",
       "3610820                                30.00                ['121AP01']   \n",
       "3610821                               630.00                ['127AA99']   \n",
       "3610822                               104.00     ['113AQ27', '113AV01']   \n",
       "\n",
       "           piezo_station_altitude  piezo_station_longitude  \\\n",
       "row_index                                                    \n",
       "2331795                    232.00                 5.748241   \n",
       "2331796                    247.25                 5.356637   \n",
       "2331797                    218.77                 5.220795   \n",
       "2331798                    499.85                 5.948977   \n",
       "2331799                    260.00                 5.313353   \n",
       "...                           ...                      ...   \n",
       "3610818                     63.00                 1.711584   \n",
       "3610819                    103.00                 1.901276   \n",
       "3610820                     83.00                 1.897576   \n",
       "3610821                     24.00                 2.209806   \n",
       "3610822                    131.00                 2.488424   \n",
       "\n",
       "           piezo_station_latitude               piezo_status  \\\n",
       "row_index                                                      \n",
       "2331795                 45.828148  Donnée contrôlée niveau 2   \n",
       "2331796                 46.028102  Donnée contrôlée niveau 2   \n",
       "2331797                 45.895734  Donnée contrôlée niveau 2   \n",
       "2331798                 46.201180  Donnée contrôlée niveau 2   \n",
       "2331799                 46.136402  Donnée contrôlée niveau 2   \n",
       "...                           ...                        ...   \n",
       "3610818                 49.197517  Donnée contrôlée niveau 2   \n",
       "3610819                 49.145695  Donnée contrôlée niveau 2   \n",
       "3610820                 49.083846  Donnée contrôlée niveau 2   \n",
       "3610821                 49.105985  Donnée contrôlée niveau 2   \n",
       "3610822                 49.069086  Donnée contrôlée niveau 1   \n",
       "\n",
       "          piezo_qualification piezo_measure_nature_name  meteo_altitude  \\\n",
       "row_index                                                                 \n",
       "2331795              Correcte                   Naturel             330   \n",
       "2331796              Correcte                   Naturel             250   \n",
       "2331797              Correcte                   Naturel             196   \n",
       "2331798              Correcte                   Naturel            1133   \n",
       "2331799              Correcte                   Naturel             260   \n",
       "...                       ...                       ...             ...   \n",
       "3610818              Correcte                   Naturel             105   \n",
       "3610819              Correcte                   Naturel             105   \n",
       "3610820              Correcte                   Naturel             105   \n",
       "3610821              Correcte                   Naturel             171   \n",
       "3610822              Correcte                  Inconnue             141   \n",
       "\n",
       "           meteo_rain_height  ...  Alluvions  Basement  Geological Epochs  \\\n",
       "row_index                     ...                                           \n",
       "2331795                  7.4  ...          1         0                  0   \n",
       "2331796                  3.4  ...          1         0                  0   \n",
       "2331797                  NaN  ...          0         0                  0   \n",
       "2331798                 12.8  ...          0         0                  0   \n",
       "2331799                  2.2  ...          0         0                  0   \n",
       "...                      ...  ...        ...       ...                ...   \n",
       "3610818                  0.0  ...          0         0                  0   \n",
       "3610819                  0.0  ...          0         0                  0   \n",
       "3610820                  0.0  ...          0         0                  0   \n",
       "3610821                  0.2  ...          0         0                  0   \n",
       "3610822                  0.2  ...          0         0                  0   \n",
       "\n",
       "           Gravel  Limestones  Marls  Massif  Other  Paleogeological Epochs  \\\n",
       "row_index                                                                     \n",
       "2331795         0           0      0       0      0                       0   \n",
       "2331796         0           0      0       0      0                       0   \n",
       "2331797         0           0      0       0      1                       0   \n",
       "2331798         0           0      0       0      1                       0   \n",
       "2331799         0           0      0       0      1                       0   \n",
       "...           ...         ...    ...     ...    ...                     ...   \n",
       "3610818         0           0      0       0      1                       0   \n",
       "3610819         0           1      0       0      0                       0   \n",
       "3610820         0           0      0       0      1                       0   \n",
       "3610821         0           0      0       0      0                       0   \n",
       "3610822         0           1      0       0      0                       0   \n",
       "\n",
       "           Sands  \n",
       "row_index         \n",
       "2331795        0  \n",
       "2331796        0  \n",
       "2331797        0  \n",
       "2331798        0  \n",
       "2331799        0  \n",
       "...          ...  \n",
       "3610818        0  \n",
       "3610819        0  \n",
       "3610820        0  \n",
       "3610821        1  \n",
       "3610822        0  \n",
       "\n",
       "[611208 rows x 76 columns]"
      ]
     },
     "execution_count": 497,
     "metadata": {},
     "output_type": "execute_result"
    }
   ],
   "source": [
    "mlb = MultiLabelBinarizer()\n",
    "train_data_filtered[mlb.classes_] = mlb.fit_transform(train_data_filtered['Mapped_Category'])\n",
    "train_data_filtered"
   ]
  },
  {
   "cell_type": "code",
   "execution_count": 498,
   "metadata": {},
   "outputs": [],
   "source": [
    "train_data_filtered = train_data_filtered.drop(columns=['piezo_station_bdlisa_codes', 'Mapped_Category'])"
   ]
  },
  {
   "cell_type": "code",
   "execution_count": 499,
   "metadata": {},
   "outputs": [],
   "source": [
    "piezo_status_to_id = {\n",
    "    'Donnée brute': 0,\n",
    "    'Donnée contrôlée niveau 1': 1,\n",
    "    'Donnée contrôlée niveau 2': 2,\n",
    "    'Donnée interprétée': 3\n",
    "}"
   ]
  },
  {
   "cell_type": "code",
   "execution_count": 500,
   "metadata": {},
   "outputs": [],
   "source": [
    "piezo_measure_nature_name_to_id = {\n",
    "    'Inconnue': np.nan,\n",
    "    'Naturel': 1,\n",
    "    'Influencé': 2,\n",
    "    'Dynamique': 3,\n",
    "    'Sec': 4\n",
    "}"
   ]
  },
  {
   "cell_type": "code",
   "execution_count": 501,
   "metadata": {},
   "outputs": [],
   "source": [
    "train_data_filtered['piezo_status'] = train_data_filtered['piezo_status'].map(piezo_status_to_id)\n",
    "train_data_filtered['piezo_measure_nature_name'] = train_data_filtered['piezo_measure_nature_name'].map(piezo_measure_nature_name_to_id)"
   ]
  },
  {
   "attachments": {},
   "cell_type": "markdown",
   "metadata": {},
   "source": [
    "## Distance computation"
   ]
  },
  {
   "cell_type": "code",
   "execution_count": 502,
   "metadata": {},
   "outputs": [
    {
     "data": {
      "text/html": [
       "<div>\n",
       "<style scoped>\n",
       "    .dataframe tbody tr th:only-of-type {\n",
       "        vertical-align: middle;\n",
       "    }\n",
       "\n",
       "    .dataframe tbody tr th {\n",
       "        vertical-align: top;\n",
       "    }\n",
       "\n",
       "    .dataframe thead th {\n",
       "        text-align: right;\n",
       "    }\n",
       "</style>\n",
       "<table border=\"1\" class=\"dataframe\">\n",
       "  <thead>\n",
       "    <tr style=\"text-align: right;\">\n",
       "      <th></th>\n",
       "      <th>prelev_volume_0</th>\n",
       "      <th>prelev_usage_label_0</th>\n",
       "      <th>prelev_longitude_0</th>\n",
       "      <th>prelev_latitude_0</th>\n",
       "      <th>prelev_volume_1</th>\n",
       "      <th>prelev_usage_label_1</th>\n",
       "      <th>prelev_longitude_1</th>\n",
       "      <th>prelev_latitude_1</th>\n",
       "      <th>prelev_volume_2</th>\n",
       "      <th>prelev_usage_label_2</th>\n",
       "      <th>prelev_longitude_2</th>\n",
       "      <th>prelev_latitude_2</th>\n",
       "      <th>prelev_other_volume_sum</th>\n",
       "    </tr>\n",
       "    <tr>\n",
       "      <th>row_index</th>\n",
       "      <th></th>\n",
       "      <th></th>\n",
       "      <th></th>\n",
       "      <th></th>\n",
       "      <th></th>\n",
       "      <th></th>\n",
       "      <th></th>\n",
       "      <th></th>\n",
       "      <th></th>\n",
       "      <th></th>\n",
       "      <th></th>\n",
       "      <th></th>\n",
       "      <th></th>\n",
       "    </tr>\n",
       "  </thead>\n",
       "  <tbody>\n",
       "    <tr>\n",
       "      <th>2331795</th>\n",
       "      <td>NaN</td>\n",
       "      <td>NaN</td>\n",
       "      <td>NaN</td>\n",
       "      <td>NaN</td>\n",
       "      <td>NaN</td>\n",
       "      <td>NaN</td>\n",
       "      <td>NaN</td>\n",
       "      <td>NaN</td>\n",
       "      <td>NaN</td>\n",
       "      <td>NaN</td>\n",
       "      <td>NaN</td>\n",
       "      <td>NaN</td>\n",
       "      <td>0.0</td>\n",
       "    </tr>\n",
       "    <tr>\n",
       "      <th>2331796</th>\n",
       "      <td>NaN</td>\n",
       "      <td>NaN</td>\n",
       "      <td>NaN</td>\n",
       "      <td>NaN</td>\n",
       "      <td>NaN</td>\n",
       "      <td>NaN</td>\n",
       "      <td>NaN</td>\n",
       "      <td>NaN</td>\n",
       "      <td>NaN</td>\n",
       "      <td>NaN</td>\n",
       "      <td>NaN</td>\n",
       "      <td>NaN</td>\n",
       "      <td>0.0</td>\n",
       "    </tr>\n",
       "    <tr>\n",
       "      <th>2331797</th>\n",
       "      <td>NaN</td>\n",
       "      <td>NaN</td>\n",
       "      <td>NaN</td>\n",
       "      <td>NaN</td>\n",
       "      <td>NaN</td>\n",
       "      <td>NaN</td>\n",
       "      <td>NaN</td>\n",
       "      <td>NaN</td>\n",
       "      <td>NaN</td>\n",
       "      <td>NaN</td>\n",
       "      <td>NaN</td>\n",
       "      <td>NaN</td>\n",
       "      <td>0.0</td>\n",
       "    </tr>\n",
       "    <tr>\n",
       "      <th>2331798</th>\n",
       "      <td>NaN</td>\n",
       "      <td>NaN</td>\n",
       "      <td>NaN</td>\n",
       "      <td>NaN</td>\n",
       "      <td>NaN</td>\n",
       "      <td>NaN</td>\n",
       "      <td>NaN</td>\n",
       "      <td>NaN</td>\n",
       "      <td>NaN</td>\n",
       "      <td>NaN</td>\n",
       "      <td>NaN</td>\n",
       "      <td>NaN</td>\n",
       "      <td>0.0</td>\n",
       "    </tr>\n",
       "    <tr>\n",
       "      <th>2331799</th>\n",
       "      <td>NaN</td>\n",
       "      <td>NaN</td>\n",
       "      <td>NaN</td>\n",
       "      <td>NaN</td>\n",
       "      <td>NaN</td>\n",
       "      <td>NaN</td>\n",
       "      <td>NaN</td>\n",
       "      <td>NaN</td>\n",
       "      <td>NaN</td>\n",
       "      <td>NaN</td>\n",
       "      <td>NaN</td>\n",
       "      <td>NaN</td>\n",
       "      <td>0.0</td>\n",
       "    </tr>\n",
       "  </tbody>\n",
       "</table>\n",
       "</div>"
      ],
      "text/plain": [
       "           prelev_volume_0 prelev_usage_label_0  prelev_longitude_0  \\\n",
       "row_index                                                             \n",
       "2331795                NaN                  NaN                 NaN   \n",
       "2331796                NaN                  NaN                 NaN   \n",
       "2331797                NaN                  NaN                 NaN   \n",
       "2331798                NaN                  NaN                 NaN   \n",
       "2331799                NaN                  NaN                 NaN   \n",
       "\n",
       "           prelev_latitude_0  prelev_volume_1 prelev_usage_label_1  \\\n",
       "row_index                                                            \n",
       "2331795                  NaN              NaN                  NaN   \n",
       "2331796                  NaN              NaN                  NaN   \n",
       "2331797                  NaN              NaN                  NaN   \n",
       "2331798                  NaN              NaN                  NaN   \n",
       "2331799                  NaN              NaN                  NaN   \n",
       "\n",
       "           prelev_longitude_1  prelev_latitude_1  prelev_volume_2  \\\n",
       "row_index                                                           \n",
       "2331795                   NaN                NaN              NaN   \n",
       "2331796                   NaN                NaN              NaN   \n",
       "2331797                   NaN                NaN              NaN   \n",
       "2331798                   NaN                NaN              NaN   \n",
       "2331799                   NaN                NaN              NaN   \n",
       "\n",
       "          prelev_usage_label_2  prelev_longitude_2  prelev_latitude_2  \\\n",
       "row_index                                                               \n",
       "2331795                    NaN                 NaN                NaN   \n",
       "2331796                    NaN                 NaN                NaN   \n",
       "2331797                    NaN                 NaN                NaN   \n",
       "2331798                    NaN                 NaN                NaN   \n",
       "2331799                    NaN                 NaN                NaN   \n",
       "\n",
       "           prelev_other_volume_sum  \n",
       "row_index                           \n",
       "2331795                        0.0  \n",
       "2331796                        0.0  \n",
       "2331797                        0.0  \n",
       "2331798                        0.0  \n",
       "2331799                        0.0  "
      ]
     },
     "execution_count": 502,
     "metadata": {},
     "output_type": "execute_result"
    }
   ],
   "source": [
    "prelev_columns = [col for col in train_data_filtered.columns if col.startswith(\"prelev_\")]\n",
    "X_prelev = train_data_filtered[[col for col in train_data_filtered.columns if col.startswith(\"prelev_\")]]\n",
    "train_data_filtered[prelev_columns].head()"
   ]
  },
  {
   "cell_type": "code",
   "execution_count": 503,
   "metadata": {},
   "outputs": [],
   "source": [
    "numeric_columns_prelev = X_prelev.dtypes[((X_prelev.dtypes==\"float64\"))|((X_prelev.dtypes==\"int64\"))].index.values.tolist()\n",
    "cat_columns = X_prelev.dtypes[((X_prelev.dtypes==\"object\"))].index.values.tolist()"
   ]
  },
  {
   "cell_type": "code",
   "execution_count": 504,
   "metadata": {},
   "outputs": [
    {
     "data": {
      "text/html": [
       "<div>\n",
       "<style scoped>\n",
       "    .dataframe tbody tr th:only-of-type {\n",
       "        vertical-align: middle;\n",
       "    }\n",
       "\n",
       "    .dataframe tbody tr th {\n",
       "        vertical-align: top;\n",
       "    }\n",
       "\n",
       "    .dataframe thead th {\n",
       "        text-align: right;\n",
       "    }\n",
       "</style>\n",
       "<table border=\"1\" class=\"dataframe\">\n",
       "  <thead>\n",
       "    <tr style=\"text-align: right;\">\n",
       "      <th></th>\n",
       "      <th>prelev_usage_label_0</th>\n",
       "      <th>prelev_usage_label_1</th>\n",
       "      <th>prelev_usage_label_2</th>\n",
       "    </tr>\n",
       "    <tr>\n",
       "      <th>row_index</th>\n",
       "      <th></th>\n",
       "      <th></th>\n",
       "      <th></th>\n",
       "    </tr>\n",
       "  </thead>\n",
       "  <tbody>\n",
       "    <tr>\n",
       "      <th>2331795</th>\n",
       "      <td>NaN</td>\n",
       "      <td>NaN</td>\n",
       "      <td>NaN</td>\n",
       "    </tr>\n",
       "    <tr>\n",
       "      <th>2331796</th>\n",
       "      <td>NaN</td>\n",
       "      <td>NaN</td>\n",
       "      <td>NaN</td>\n",
       "    </tr>\n",
       "    <tr>\n",
       "      <th>2331797</th>\n",
       "      <td>NaN</td>\n",
       "      <td>NaN</td>\n",
       "      <td>NaN</td>\n",
       "    </tr>\n",
       "    <tr>\n",
       "      <th>2331798</th>\n",
       "      <td>NaN</td>\n",
       "      <td>NaN</td>\n",
       "      <td>NaN</td>\n",
       "    </tr>\n",
       "    <tr>\n",
       "      <th>2331799</th>\n",
       "      <td>NaN</td>\n",
       "      <td>NaN</td>\n",
       "      <td>NaN</td>\n",
       "    </tr>\n",
       "  </tbody>\n",
       "</table>\n",
       "</div>"
      ],
      "text/plain": [
       "          prelev_usage_label_0 prelev_usage_label_1 prelev_usage_label_2\n",
       "row_index                                                               \n",
       "2331795                    NaN                  NaN                  NaN\n",
       "2331796                    NaN                  NaN                  NaN\n",
       "2331797                    NaN                  NaN                  NaN\n",
       "2331798                    NaN                  NaN                  NaN\n",
       "2331799                    NaN                  NaN                  NaN"
      ]
     },
     "execution_count": 504,
     "metadata": {},
     "output_type": "execute_result"
    }
   ],
   "source": [
    "X_prelev[cat_columns].head()"
   ]
  },
  {
   "cell_type": "code",
   "execution_count": 505,
   "metadata": {},
   "outputs": [
    {
     "name": "stderr",
     "output_type": "stream",
     "text": [
      "C:\\Users\\festi\\AppData\\Local\\Temp\\ipykernel_19444\\21148230.py:2: SettingWithCopyWarning: \n",
      "A value is trying to be set on a copy of a slice from a DataFrame.\n",
      "Try using .loc[row_indexer,col_indexer] = value instead\n",
      "\n",
      "See the caveats in the documentation: https://pandas.pydata.org/pandas-docs/stable/user_guide/indexing.html#returning-a-view-versus-a-copy\n",
      "  X_prelev_cl[\"prelev_usage_label_0\"] = X_prelev[\"prelev_usage_label_0\"]\n",
      "C:\\Users\\festi\\AppData\\Local\\Temp\\ipykernel_19444\\21148230.py:3: SettingWithCopyWarning: \n",
      "A value is trying to be set on a copy of a slice from a DataFrame.\n",
      "Try using .loc[row_indexer,col_indexer] = value instead\n",
      "\n",
      "See the caveats in the documentation: https://pandas.pydata.org/pandas-docs/stable/user_guide/indexing.html#returning-a-view-versus-a-copy\n",
      "  X_prelev_cl[\"prelev_usage_label_1\"] = X_prelev[\"prelev_usage_label_1\"]\n"
     ]
    }
   ],
   "source": [
    "X_prelev_cl = X_prelev[numeric_columns_prelev]\n",
    "X_prelev_cl[\"prelev_usage_label_0\"] = X_prelev[\"prelev_usage_label_0\"]\n",
    "X_prelev_cl[\"prelev_usage_label_1\"] = X_prelev[\"prelev_usage_label_1\"]\n",
    "X_prelev_cl[\"prelev_usage_label_2\"] = X_prelev[\"prelev_usage_label_2\"]\n",
    "X_prelev_cl[\"prelev_other_volume_sum\"] = X_prelev[\"prelev_other_volume_sum\"]\n",
    "\n",
    "\n",
    "X_prelev_cl[\"distance_0\"] = (train_data_filtered[\"piezo_station_longitude\"] - train_data_filtered[\"prelev_longitude_0\"])**2 + (train_data_filtered[\"piezo_station_latitude\"] - train_data_filtered[\"prelev_latitude_0\"])**2\n",
    "\n",
    "X_prelev_cl[\"distance_1\"] = (train_data_filtered[\"piezo_station_longitude\"] - train_data_filtered[\"prelev_longitude_1\"])**2 + (train_data_filtered[\"piezo_station_latitude\"] - train_data_filtered[\"prelev_latitude_1\"])**2\n",
    "X_prelev_cl[\"distance_2\"] = (train_data_filtered[\"piezo_station_longitude\"] - train_data_filtered[\"prelev_longitude_2\"])**2 + (train_data_filtered[\"piezo_station_latitude\"] - train_data_filtered[\"prelev_latitude_2\"])**2\n",
    "X_prelev_cl = X_prelev_cl.drop(columns=[\"prelev_longitude_0\",\"prelev_longitude_1\",\"prelev_longitude_2\",\"prelev_latitude_0\",\"prelev_latitude_1\",\"prelev_latitude_2\"])\n",
    "X_prelev_cl[\"prelev_all_volume_sum\"] = train_data_filtered[\"prelev_volume_0\"] + train_data_filtered[\"prelev_volume_1\"] + train_data_filtered[\"prelev_volume_2\"] + train_data_filtered[\"prelev_other_volume_sum\"]"
   ]
  },
  {
   "cell_type": "code",
   "execution_count": 506,
   "metadata": {},
   "outputs": [
    {
     "data": {
      "text/html": [
       "<div>\n",
       "<style scoped>\n",
       "    .dataframe tbody tr th:only-of-type {\n",
       "        vertical-align: middle;\n",
       "    }\n",
       "\n",
       "    .dataframe tbody tr th {\n",
       "        vertical-align: top;\n",
       "    }\n",
       "\n",
       "    .dataframe thead th {\n",
       "        text-align: right;\n",
       "    }\n",
       "</style>\n",
       "<table border=\"1\" class=\"dataframe\">\n",
       "  <thead>\n",
       "    <tr style=\"text-align: right;\">\n",
       "      <th></th>\n",
       "      <th>prelev_volume_0</th>\n",
       "      <th>prelev_volume_1</th>\n",
       "      <th>prelev_volume_2</th>\n",
       "      <th>prelev_other_volume_sum</th>\n",
       "      <th>prelev_usage_label_0</th>\n",
       "      <th>prelev_usage_label_1</th>\n",
       "      <th>prelev_usage_label_2</th>\n",
       "      <th>distance_0</th>\n",
       "      <th>distance_1</th>\n",
       "      <th>distance_2</th>\n",
       "      <th>prelev_all_volume_sum</th>\n",
       "    </tr>\n",
       "    <tr>\n",
       "      <th>row_index</th>\n",
       "      <th></th>\n",
       "      <th></th>\n",
       "      <th></th>\n",
       "      <th></th>\n",
       "      <th></th>\n",
       "      <th></th>\n",
       "      <th></th>\n",
       "      <th></th>\n",
       "      <th></th>\n",
       "      <th></th>\n",
       "      <th></th>\n",
       "    </tr>\n",
       "  </thead>\n",
       "  <tbody>\n",
       "    <tr>\n",
       "      <th>2331795</th>\n",
       "      <td>NaN</td>\n",
       "      <td>NaN</td>\n",
       "      <td>NaN</td>\n",
       "      <td>0.0</td>\n",
       "      <td>NaN</td>\n",
       "      <td>NaN</td>\n",
       "      <td>NaN</td>\n",
       "      <td>NaN</td>\n",
       "      <td>NaN</td>\n",
       "      <td>NaN</td>\n",
       "      <td>NaN</td>\n",
       "    </tr>\n",
       "    <tr>\n",
       "      <th>2331796</th>\n",
       "      <td>NaN</td>\n",
       "      <td>NaN</td>\n",
       "      <td>NaN</td>\n",
       "      <td>0.0</td>\n",
       "      <td>NaN</td>\n",
       "      <td>NaN</td>\n",
       "      <td>NaN</td>\n",
       "      <td>NaN</td>\n",
       "      <td>NaN</td>\n",
       "      <td>NaN</td>\n",
       "      <td>NaN</td>\n",
       "    </tr>\n",
       "    <tr>\n",
       "      <th>2331797</th>\n",
       "      <td>NaN</td>\n",
       "      <td>NaN</td>\n",
       "      <td>NaN</td>\n",
       "      <td>0.0</td>\n",
       "      <td>NaN</td>\n",
       "      <td>NaN</td>\n",
       "      <td>NaN</td>\n",
       "      <td>NaN</td>\n",
       "      <td>NaN</td>\n",
       "      <td>NaN</td>\n",
       "      <td>NaN</td>\n",
       "    </tr>\n",
       "    <tr>\n",
       "      <th>2331798</th>\n",
       "      <td>NaN</td>\n",
       "      <td>NaN</td>\n",
       "      <td>NaN</td>\n",
       "      <td>0.0</td>\n",
       "      <td>NaN</td>\n",
       "      <td>NaN</td>\n",
       "      <td>NaN</td>\n",
       "      <td>NaN</td>\n",
       "      <td>NaN</td>\n",
       "      <td>NaN</td>\n",
       "      <td>NaN</td>\n",
       "    </tr>\n",
       "    <tr>\n",
       "      <th>2331799</th>\n",
       "      <td>NaN</td>\n",
       "      <td>NaN</td>\n",
       "      <td>NaN</td>\n",
       "      <td>0.0</td>\n",
       "      <td>NaN</td>\n",
       "      <td>NaN</td>\n",
       "      <td>NaN</td>\n",
       "      <td>NaN</td>\n",
       "      <td>NaN</td>\n",
       "      <td>NaN</td>\n",
       "      <td>NaN</td>\n",
       "    </tr>\n",
       "  </tbody>\n",
       "</table>\n",
       "</div>"
      ],
      "text/plain": [
       "           prelev_volume_0  prelev_volume_1  prelev_volume_2  \\\n",
       "row_index                                                      \n",
       "2331795                NaN              NaN              NaN   \n",
       "2331796                NaN              NaN              NaN   \n",
       "2331797                NaN              NaN              NaN   \n",
       "2331798                NaN              NaN              NaN   \n",
       "2331799                NaN              NaN              NaN   \n",
       "\n",
       "           prelev_other_volume_sum prelev_usage_label_0 prelev_usage_label_1  \\\n",
       "row_index                                                                      \n",
       "2331795                        0.0                  NaN                  NaN   \n",
       "2331796                        0.0                  NaN                  NaN   \n",
       "2331797                        0.0                  NaN                  NaN   \n",
       "2331798                        0.0                  NaN                  NaN   \n",
       "2331799                        0.0                  NaN                  NaN   \n",
       "\n",
       "          prelev_usage_label_2  distance_0  distance_1  distance_2  \\\n",
       "row_index                                                            \n",
       "2331795                    NaN         NaN         NaN         NaN   \n",
       "2331796                    NaN         NaN         NaN         NaN   \n",
       "2331797                    NaN         NaN         NaN         NaN   \n",
       "2331798                    NaN         NaN         NaN         NaN   \n",
       "2331799                    NaN         NaN         NaN         NaN   \n",
       "\n",
       "           prelev_all_volume_sum  \n",
       "row_index                         \n",
       "2331795                      NaN  \n",
       "2331796                      NaN  \n",
       "2331797                      NaN  \n",
       "2331798                      NaN  \n",
       "2331799                      NaN  "
      ]
     },
     "execution_count": 506,
     "metadata": {},
     "output_type": "execute_result"
    }
   ],
   "source": [
    "X_prelev_cl.head()"
   ]
  },
  {
   "cell_type": "code",
   "execution_count": 507,
   "metadata": {},
   "outputs": [
    {
     "data": {
      "text/plain": [
       "prelev_usage_label_0\n",
       "EAU POTABLE                                                           114453\n",
       "EAU TURBINEE (barrage)                                                 31574\n",
       "INDUSTRIE et ACTIVITES ECONOMIQUES (hors irrigation, hors énergie)     31230\n",
       "IRRIGATION                                                             27497\n",
       "CANAUX                                                                 16286\n",
       "ENERGIE                                                                10087\n",
       "Name: count, dtype: int64"
      ]
     },
     "execution_count": 507,
     "metadata": {},
     "output_type": "execute_result"
    }
   ],
   "source": [
    "train_data_filtered['prelev_usage_label_0'].value_counts()"
   ]
  },
  {
   "cell_type": "code",
   "execution_count": 508,
   "metadata": {},
   "outputs": [],
   "source": [
    "prelev_columns = [col for col in X_prelev_cl.columns if col.startswith(\"prelev_\")]\n",
    "\n",
    "train_data_filtered = train_data_filtered.drop(columns=[col for col in train_data_filtered.columns if col.startswith(\"prelev_\")])\n",
    "\n",
    "train_data_filtered[prelev_columns] = X_prelev_cl[prelev_columns]"
   ]
  },
  {
   "attachments": {},
   "cell_type": "markdown",
   "metadata": {},
   "source": [
    "### Handle Insee data"
   ]
  },
  {
   "cell_type": "code",
   "execution_count": 509,
   "metadata": {},
   "outputs": [],
   "source": [
    "insee_cols_modif = [\n",
    "    'insee_%_agri',\n",
    "    'insee_med_living_level',\n",
    "    'insee_%_ind',\n",
    "    'insee_%_const'\n",
    "]"
   ]
  },
  {
   "cell_type": "code",
   "execution_count": 510,
   "metadata": {},
   "outputs": [],
   "source": [
    "train_data_filtered[insee_cols_modif] = train_data_filtered[insee_cols_modif].apply(pd.to_numeric, errors='coerce')"
   ]
  },
  {
   "cell_type": "code",
   "execution_count": 511,
   "metadata": {},
   "outputs": [],
   "source": [
    "deviation_data = {\n",
    "    2020: {'temperature': 1.15, 'precipitation': 0.97},\n",
    "    2021: {'temperature': -0.01, 'precipitation': 0.99},\n",
    "    2022: {'temperature': 1.6, 'precipitation': 0.76},\n",
    "    2023: {'temperature': 1.4, 'precipitation': 1.035},\n",
    "}\n",
    "\n",
    "train_data_filtered['mean_annual_temperature_deviation'] = train_data_filtered['year'].map(\n",
    "    lambda year: deviation_data[year]['temperature'] if year in deviation_data else None\n",
    ")\n",
    "train_data_filtered['mean_annual_precipitation_deviation'] = train_data_filtered['year'].map(\n",
    "    lambda year: deviation_data[year]['precipitation'] if year in deviation_data else None\n",
    ")"
   ]
  },
  {
   "attachments": {},
   "cell_type": "markdown",
   "metadata": {},
   "source": [
    "## Split data"
   ]
  },
  {
   "cell_type": "code",
   "execution_count": 373,
   "metadata": {},
   "outputs": [
    {
     "data": {
      "text/plain": [
       "(1761874, 70)"
      ]
     },
     "execution_count": 373,
     "metadata": {},
     "output_type": "execute_result"
    }
   ],
   "source": [
    "train_data_filtered.shape"
   ]
  },
  {
   "cell_type": "code",
   "execution_count": 512,
   "metadata": {},
   "outputs": [],
   "source": [
    "X_test = train_data_filtered\n",
    "X_test = X_test.drop(columns='piezo_qualification')"
   ]
  },
  {
   "cell_type": "code",
   "execution_count": 279,
   "metadata": {},
   "outputs": [
    {
     "data": {
      "text/plain": [
       "(611208, 69)"
      ]
     },
     "execution_count": 279,
     "metadata": {},
     "output_type": "execute_result"
    }
   ],
   "source": [
    "X_test.shape"
   ]
  },
  {
   "cell_type": "code",
   "execution_count": 474,
   "metadata": {},
   "outputs": [],
   "source": [
    "y_train = train_data_filtered['piezo_groundwater_level_category']\n",
    "X_train = train_data_filtered.drop(columns=['piezo_groundwater_level_category'])"
   ]
  },
  {
   "cell_type": "code",
   "execution_count": 475,
   "metadata": {},
   "outputs": [],
   "source": [
    "groundwater_cat_to_id = {\n",
    "    'Very High': 2,\n",
    "    'High': 1,\n",
    "    'Average': 0,\n",
    "    'Low': -1,\n",
    "    'Very Low': -2\n",
    "}\n",
    "\n",
    "y_train = y_train.map(groundwater_cat_to_id) + 2"
   ]
  },
  {
   "cell_type": "code",
   "execution_count": null,
   "metadata": {},
   "outputs": [],
   "source": [
    "groundwater_id_to_cat = {\n",
    "    4: 'Very High',\n",
    "    3: 'High',\n",
    "    2: 'Average',\n",
    "    1: 'Low',\n",
    "    0: 'Very Low'\n",
    "}\n",
    "\n",
    "y_test_pred_label = y_test.map(groundwater_id_to_cat)"
   ]
  },
  {
   "cell_type": "code",
   "execution_count": 482,
   "metadata": {},
   "outputs": [],
   "source": [
    "categorical_columns = [\n",
    "    # 'piezo_status', \n",
    "    # 'piezo_measure_nature_name', \n",
    "    'prelev_usage_label_0', \n",
    "    'prelev_usage_label_1', \n",
    "    'prelev_usage_label_2'\n",
    "]\n",
    "\n",
    "for col in categorical_columns:\n",
    "    X_train[col] = X_train[col].astype('category')"
   ]
  },
  {
   "cell_type": "code",
   "execution_count": 315,
   "metadata": {},
   "outputs": [],
   "source": [
    "# X_train_full, X_test, y_train_full, y_test = train_test_split(X_train, y_train, test_size=0.15, random_state=42, stratify=y_train)\n",
    "X_train, X_val, y_train, y_val = train_test_split(X_train, y_train, test_size=0.3, random_state=42, stratify=y_train)"
   ]
  },
  {
   "cell_type": "code",
   "execution_count": 179,
   "metadata": {},
   "outputs": [
    {
     "data": {
      "text/plain": [
       "(0.8966206388887901,\n",
       " 0.8966206388887901,\n",
       " 0.6426049583381721,\n",
       " 0.8972033187029154)"
      ]
     },
     "execution_count": 179,
     "metadata": {},
     "output_type": "execute_result"
    }
   ],
   "source": [
    "xgb_reg_model = xgb.XGBRegressor(\n",
    "    objective='reg:squarederror',\n",
    "    learning_rate=0.1,\n",
    "    max_depth=12,\n",
    "    n_estimators=700,\n",
    "    min_child_weight=1,\n",
    "    subsample=0.9,\n",
    "    colsample_bytree=0.9,\n",
    "    reg_alpha=0.1,\n",
    "    reg_lambda=1.0,\n",
    "    random_state=42,\n",
    "    enable_categorical=True\n",
    ")\n",
    "xgb_reg_model.fit(X_train, y_train)\n",
    "y_preds = np.round(xgb_reg_model.predict(X_val)).astype(int)\n",
    "accuracy_score(y_pred=y_preds, y_true=y_val), f1_score(y_pred=y_preds, y_true=y_val, average='micro'), f1_score(y_pred=y_preds, y_true=y_val, average='macro'), f1_score(y_pred=y_preds, y_true=y_val, average='weighted')"
   ]
  },
  {
   "cell_type": "code",
   "execution_count": 247,
   "metadata": {},
   "outputs": [
    {
     "data": {
      "text/plain": [
       "(0.896710726736295, 0.896710726736295, 0.8997071040104417, 0.8972533076010903)"
      ]
     },
     "execution_count": 247,
     "metadata": {},
     "output_type": "execute_result"
    }
   ],
   "source": [
    "y_preds = np.clip(np.round(xgb_reg_model.predict(X_val)).astype(int), 0, 4)\n",
    "accuracy_score(y_pred=y_preds, y_true=y_val), f1_score(y_pred=y_preds, y_true=y_val, average='micro'), f1_score(y_pred=y_preds, y_true=y_val, average='macro'), f1_score(y_pred=y_preds, y_true=y_val, average='weighted')"
   ]
  },
  {
   "cell_type": "code",
   "execution_count": 254,
   "metadata": {},
   "outputs": [
    {
     "data": {
      "text/plain": [
       "(array([0, 1, 2, 3, 4]),\n",
       " array([155023, 190843, 198169, 178144, 121442], dtype=int64))"
      ]
     },
     "execution_count": 254,
     "metadata": {},
     "output_type": "execute_result"
    }
   ],
   "source": [
    "np.unique(y_preds, return_counts=True)"
   ]
  },
  {
   "cell_type": "code",
   "execution_count": 235,
   "metadata": {},
   "outputs": [
    {
     "data": {
      "text/plain": [
       "(843621, 611208)"
      ]
     },
     "execution_count": 235,
     "metadata": {},
     "output_type": "execute_result"
    }
   ],
   "source": [
    "len(y_preds), len(test_preds)"
   ]
  },
  {
   "cell_type": "code",
   "execution_count": 513,
   "metadata": {},
   "outputs": [],
   "source": [
    "for col in categorical_columns:\n",
    "    X_test[col] = X_test[col].astype('category')"
   ]
  },
  {
   "cell_type": "code",
   "execution_count": null,
   "metadata": {},
   "outputs": [],
   "source": [
    "test_preds = np.round(xgb_reg_model.predict(X_test)).astype(int)"
   ]
  },
  {
   "cell_type": "code",
   "execution_count": 230,
   "metadata": {},
   "outputs": [],
   "source": [
    "test_preds = np.clip(test_preds, 0, 4)"
   ]
  },
  {
   "cell_type": "code",
   "execution_count": 238,
   "metadata": {},
   "outputs": [
    {
     "data": {
      "text/plain": [
       "611208"
      ]
     },
     "execution_count": 238,
     "metadata": {},
     "output_type": "execute_result"
    }
   ],
   "source": [
    "len(test_preds)"
   ]
  },
  {
   "cell_type": "code",
   "execution_count": null,
   "metadata": {},
   "outputs": [],
   "source": [
    "y_preds_df = pd.DataFrame({\n",
    "    'row_index': X_test.index,\n",
    "    'piezo_groundwater_level_category': test_preds\n",
    "})\n",
    "\n",
    "groundwater_id_to_cat = {\n",
    "    4: 'Very High',\n",
    "    3: 'High',\n",
    "    2: 'Average',\n",
    "    1: 'Low',\n",
    "    0: 'Very Low'\n",
    "}\n",
    "\n",
    "y_preds_df['piezo_groundwater_level_category'] = y_preds_df['piezo_groundwater_level_category'].map(groundwater_id_to_cat)"
   ]
  },
  {
   "cell_type": "code",
   "execution_count": 240,
   "metadata": {},
   "outputs": [],
   "source": [
    "y_preds_df.to_csv('y_test_pred_xgb_reg.csv', index=False)"
   ]
  },
  {
   "cell_type": "code",
   "execution_count": null,
   "metadata": {},
   "outputs": [
    {
     "data": {
      "text/plain": [
       "(0.8934082959053888,\n",
       " 0.8934082959053888,\n",
       " 0.8964068703676776,\n",
       " 0.8939783179521726)"
      ]
     },
     "execution_count": 251,
     "metadata": {},
     "output_type": "execute_result"
    }
   ],
   "source": [
    "xgb_reg_model_1 = xgb.XGBRegressor(\n",
    "    objective='reg:squarederror',\n",
    "    learning_rate=0.1,\n",
    "    max_depth=12,\n",
    "    n_estimators=700,\n",
    "    min_child_weight=1,\n",
    "    subsample=0.9,\n",
    "    colsample_bytree=0.9,\n",
    "    reg_alpha=1.0,\n",
    "    reg_lambda=3.0,\n",
    "    random_state=42,\n",
    "    enable_categorical=True\n",
    ")\n",
    "\n",
    "xgb_reg_model_1.fit(X_train, y_train)\n",
    "y_preds = np.clip(np.round(xgb_reg_model_1.predict(X_val)).astype(int),0,4)\n",
    "accuracy_score(y_pred=y_preds, y_true=y_val), f1_score(y_pred=y_preds, y_true=y_val, average='micro'), f1_score(y_pred=y_preds, y_true=y_val, average='macro'), f1_score(y_pred=y_preds, y_true=y_val, average='weighted')"
   ]
  },
  {
   "cell_type": "code",
   "execution_count": 253,
   "metadata": {},
   "outputs": [
    {
     "data": {
      "text/plain": [
       "(0.920607713653406, 0.920607713653406, 0.9228668549906063, 0.9208751202988043)"
      ]
     },
     "execution_count": 253,
     "metadata": {},
     "output_type": "execute_result"
    }
   ],
   "source": [
    "xgb_reg_model_4 = xgb.XGBRegressor(\n",
    "    objective='reg:squarederror',\n",
    "    learning_rate=0.1,\n",
    "    max_depth=15,\n",
    "    n_estimators=700,\n",
    "    min_child_weight=1,\n",
    "    subsample=0.9,\n",
    "    colsample_bytree=0.9,\n",
    "    reg_alpha=1.0,\n",
    "    reg_lambda=1.0,\n",
    "    random_state=42,\n",
    "    enable_categorical=True\n",
    ")\n",
    "\n",
    "xgb_reg_model_4.fit(X_train, y_train)\n",
    "y_preds = np.clip(np.round(xgb_reg_model_4.predict(X_val)).astype(int),0,4)\n",
    "accuracy_score(y_pred=y_preds, y_true=y_val), f1_score(y_pred=y_preds, y_true=y_val, average='micro'), f1_score(y_pred=y_preds, y_true=y_val, average='macro'), f1_score(y_pred=y_preds, y_true=y_val, average='weighted')"
   ]
  },
  {
   "cell_type": "code",
   "execution_count": null,
   "metadata": {},
   "outputs": [
    {
     "data": {
      "text/plain": [
       "(0.846157219889026, 0.846157219889026, 0.8502545531681169, 0.8474320628249854)"
      ]
     },
     "execution_count": 266,
     "metadata": {},
     "output_type": "execute_result"
    }
   ],
   "source": [
    "# gooooood\n",
    "xgb_reg_model_5 = xgb.XGBRegressor(\n",
    "    objective='reg:squarederror',\n",
    "    learning_rate=0.1,\n",
    "    max_depth=10,\n",
    "    n_estimators=700,\n",
    "    min_child_weight=1,\n",
    "    subsample=0.9,\n",
    "    colsample_bytree=0.9,\n",
    "    reg_alpha=2.0,\n",
    "    reg_lambda=1.0,\n",
    "    random_state=42,\n",
    "    enable_categorical=True\n",
    ")\n",
    "\n",
    "xgb_reg_model_5.fit(X_train, y_train)\n",
    "y_preds = np.clip(np.round(xgb_reg_model_5.predict(X_val)).astype(int),0,4)\n",
    "accuracy_score(y_pred=y_preds, y_true=y_val), f1_score(y_pred=y_preds, y_true=y_val, average='micro'), f1_score(y_pred=y_preds, y_true=y_val, average='macro'), f1_score(y_pred=y_preds, y_true=y_val, average='weighted')"
   ]
  },
  {
   "cell_type": "code",
   "execution_count": 322,
   "metadata": {},
   "outputs": [],
   "source": [
    "# to later train on everything\n",
    "y_train_full = train_data_filtered['piezo_groundwater_level_category']\n",
    "X_train_full = train_data_filtered.drop(columns=['piezo_groundwater_level_category'])"
   ]
  },
  {
   "cell_type": "code",
   "execution_count": 324,
   "metadata": {},
   "outputs": [],
   "source": [
    "for col in categorical_columns:\n",
    "    X_train_full[col] = X_train_full[col].astype('category')"
   ]
  },
  {
   "cell_type": "code",
   "execution_count": 326,
   "metadata": {},
   "outputs": [],
   "source": [
    "y_train_full = y_train_full.map(groundwater_cat_to_id) + 2"
   ]
  },
  {
   "cell_type": "code",
   "execution_count": 327,
   "metadata": {},
   "outputs": [
    {
     "data": {
      "text/html": [
       "<style>#sk-container-id-4 {color: black;}#sk-container-id-4 pre{padding: 0;}#sk-container-id-4 div.sk-toggleable {background-color: white;}#sk-container-id-4 label.sk-toggleable__label {cursor: pointer;display: block;width: 100%;margin-bottom: 0;padding: 0.3em;box-sizing: border-box;text-align: center;}#sk-container-id-4 label.sk-toggleable__label-arrow:before {content: \"▸\";float: left;margin-right: 0.25em;color: #696969;}#sk-container-id-4 label.sk-toggleable__label-arrow:hover:before {color: black;}#sk-container-id-4 div.sk-estimator:hover label.sk-toggleable__label-arrow:before {color: black;}#sk-container-id-4 div.sk-toggleable__content {max-height: 0;max-width: 0;overflow: hidden;text-align: left;background-color: #f0f8ff;}#sk-container-id-4 div.sk-toggleable__content pre {margin: 0.2em;color: black;border-radius: 0.25em;background-color: #f0f8ff;}#sk-container-id-4 input.sk-toggleable__control:checked~div.sk-toggleable__content {max-height: 200px;max-width: 100%;overflow: auto;}#sk-container-id-4 input.sk-toggleable__control:checked~label.sk-toggleable__label-arrow:before {content: \"▾\";}#sk-container-id-4 div.sk-estimator input.sk-toggleable__control:checked~label.sk-toggleable__label {background-color: #d4ebff;}#sk-container-id-4 div.sk-label input.sk-toggleable__control:checked~label.sk-toggleable__label {background-color: #d4ebff;}#sk-container-id-4 input.sk-hidden--visually {border: 0;clip: rect(1px 1px 1px 1px);clip: rect(1px, 1px, 1px, 1px);height: 1px;margin: -1px;overflow: hidden;padding: 0;position: absolute;width: 1px;}#sk-container-id-4 div.sk-estimator {font-family: monospace;background-color: #f0f8ff;border: 1px dotted black;border-radius: 0.25em;box-sizing: border-box;margin-bottom: 0.5em;}#sk-container-id-4 div.sk-estimator:hover {background-color: #d4ebff;}#sk-container-id-4 div.sk-parallel-item::after {content: \"\";width: 100%;border-bottom: 1px solid gray;flex-grow: 1;}#sk-container-id-4 div.sk-label:hover label.sk-toggleable__label {background-color: #d4ebff;}#sk-container-id-4 div.sk-serial::before {content: \"\";position: absolute;border-left: 1px solid gray;box-sizing: border-box;top: 0;bottom: 0;left: 50%;z-index: 0;}#sk-container-id-4 div.sk-serial {display: flex;flex-direction: column;align-items: center;background-color: white;padding-right: 0.2em;padding-left: 0.2em;position: relative;}#sk-container-id-4 div.sk-item {position: relative;z-index: 1;}#sk-container-id-4 div.sk-parallel {display: flex;align-items: stretch;justify-content: center;background-color: white;position: relative;}#sk-container-id-4 div.sk-item::before, #sk-container-id-4 div.sk-parallel-item::before {content: \"\";position: absolute;border-left: 1px solid gray;box-sizing: border-box;top: 0;bottom: 0;left: 50%;z-index: -1;}#sk-container-id-4 div.sk-parallel-item {display: flex;flex-direction: column;z-index: 1;position: relative;background-color: white;}#sk-container-id-4 div.sk-parallel-item:first-child::after {align-self: flex-end;width: 50%;}#sk-container-id-4 div.sk-parallel-item:last-child::after {align-self: flex-start;width: 50%;}#sk-container-id-4 div.sk-parallel-item:only-child::after {width: 0;}#sk-container-id-4 div.sk-dashed-wrapped {border: 1px dashed gray;margin: 0 0.4em 0.5em 0.4em;box-sizing: border-box;padding-bottom: 0.4em;background-color: white;}#sk-container-id-4 div.sk-label label {font-family: monospace;font-weight: bold;display: inline-block;line-height: 1.2em;}#sk-container-id-4 div.sk-label-container {text-align: center;}#sk-container-id-4 div.sk-container {/* jupyter's `normalize.less` sets `[hidden] { display: none; }` but bootstrap.min.css set `[hidden] { display: none !important; }` so we also need the `!important` here to be able to override the default hidden behavior on the sphinx rendered scikit-learn.org. See: https://github.com/scikit-learn/scikit-learn/issues/21755 */display: inline-block !important;position: relative;}#sk-container-id-4 div.sk-text-repr-fallback {display: none;}</style><div id=\"sk-container-id-4\" class=\"sk-top-container\"><div class=\"sk-text-repr-fallback\"><pre>XGBRegressor(base_score=None, booster=None, callbacks=None,\n",
       "             colsample_bylevel=None, colsample_bynode=None,\n",
       "             colsample_bytree=0.9, device=None, early_stopping_rounds=None,\n",
       "             enable_categorical=True, eval_metric=None, feature_types=None,\n",
       "             gamma=None, grow_policy=None, importance_type=None,\n",
       "             interaction_constraints=None, learning_rate=0.1, max_bin=None,\n",
       "             max_cat_threshold=None, max_cat_to_onehot=None,\n",
       "             max_delta_step=None, max_depth=10, max_leaves=None,\n",
       "             min_child_weight=1, missing=nan, monotone_constraints=None,\n",
       "             multi_strategy=None, n_estimators=700, n_jobs=None,\n",
       "             num_parallel_tree=None, random_state=42, ...)</pre><b>In a Jupyter environment, please rerun this cell to show the HTML representation or trust the notebook. <br />On GitHub, the HTML representation is unable to render, please try loading this page with nbviewer.org.</b></div><div class=\"sk-container\" hidden><div class=\"sk-item\"><div class=\"sk-estimator sk-toggleable\"><input class=\"sk-toggleable__control sk-hidden--visually\" id=\"sk-estimator-id-4\" type=\"checkbox\" checked><label for=\"sk-estimator-id-4\" class=\"sk-toggleable__label sk-toggleable__label-arrow\">XGBRegressor</label><div class=\"sk-toggleable__content\"><pre>XGBRegressor(base_score=None, booster=None, callbacks=None,\n",
       "             colsample_bylevel=None, colsample_bynode=None,\n",
       "             colsample_bytree=0.9, device=None, early_stopping_rounds=None,\n",
       "             enable_categorical=True, eval_metric=None, feature_types=None,\n",
       "             gamma=None, grow_policy=None, importance_type=None,\n",
       "             interaction_constraints=None, learning_rate=0.1, max_bin=None,\n",
       "             max_cat_threshold=None, max_cat_to_onehot=None,\n",
       "             max_delta_step=None, max_depth=10, max_leaves=None,\n",
       "             min_child_weight=1, missing=nan, monotone_constraints=None,\n",
       "             multi_strategy=None, n_estimators=700, n_jobs=None,\n",
       "             num_parallel_tree=None, random_state=42, ...)</pre></div></div></div></div></div>"
      ],
      "text/plain": [
       "XGBRegressor(base_score=None, booster=None, callbacks=None,\n",
       "             colsample_bylevel=None, colsample_bynode=None,\n",
       "             colsample_bytree=0.9, device=None, early_stopping_rounds=None,\n",
       "             enable_categorical=True, eval_metric=None, feature_types=None,\n",
       "             gamma=None, grow_policy=None, importance_type=None,\n",
       "             interaction_constraints=None, learning_rate=0.1, max_bin=None,\n",
       "             max_cat_threshold=None, max_cat_to_onehot=None,\n",
       "             max_delta_step=None, max_depth=10, max_leaves=None,\n",
       "             min_child_weight=1, missing=nan, monotone_constraints=None,\n",
       "             multi_strategy=None, n_estimators=700, n_jobs=None,\n",
       "             num_parallel_tree=None, random_state=42, ...)"
      ]
     },
     "execution_count": 327,
     "metadata": {},
     "output_type": "execute_result"
    }
   ],
   "source": [
    "xgb_reg_model_5.fit(X_train_full, y_train_full)\n",
    "# y_preds = np.clip(np.round(xgb_reg_model_5.predict(X_val)).astype(int),0,4)\n",
    "# accuracy_score(y_pred=y_preds, y_true=y_val), f1_score(y_pred=y_preds, y_true=y_val, average='micro'), f1_score(y_pred=y_preds, y_true=y_val, average='macro'), f1_score(y_pred=y_preds, y_true=y_val, average='weighted')"
   ]
  },
  {
   "cell_type": "code",
   "execution_count": 366,
   "metadata": {},
   "outputs": [
    {
     "data": {
      "text/html": [
       "<style>#sk-container-id-5 {color: black;}#sk-container-id-5 pre{padding: 0;}#sk-container-id-5 div.sk-toggleable {background-color: white;}#sk-container-id-5 label.sk-toggleable__label {cursor: pointer;display: block;width: 100%;margin-bottom: 0;padding: 0.3em;box-sizing: border-box;text-align: center;}#sk-container-id-5 label.sk-toggleable__label-arrow:before {content: \"▸\";float: left;margin-right: 0.25em;color: #696969;}#sk-container-id-5 label.sk-toggleable__label-arrow:hover:before {color: black;}#sk-container-id-5 div.sk-estimator:hover label.sk-toggleable__label-arrow:before {color: black;}#sk-container-id-5 div.sk-toggleable__content {max-height: 0;max-width: 0;overflow: hidden;text-align: left;background-color: #f0f8ff;}#sk-container-id-5 div.sk-toggleable__content pre {margin: 0.2em;color: black;border-radius: 0.25em;background-color: #f0f8ff;}#sk-container-id-5 input.sk-toggleable__control:checked~div.sk-toggleable__content {max-height: 200px;max-width: 100%;overflow: auto;}#sk-container-id-5 input.sk-toggleable__control:checked~label.sk-toggleable__label-arrow:before {content: \"▾\";}#sk-container-id-5 div.sk-estimator input.sk-toggleable__control:checked~label.sk-toggleable__label {background-color: #d4ebff;}#sk-container-id-5 div.sk-label input.sk-toggleable__control:checked~label.sk-toggleable__label {background-color: #d4ebff;}#sk-container-id-5 input.sk-hidden--visually {border: 0;clip: rect(1px 1px 1px 1px);clip: rect(1px, 1px, 1px, 1px);height: 1px;margin: -1px;overflow: hidden;padding: 0;position: absolute;width: 1px;}#sk-container-id-5 div.sk-estimator {font-family: monospace;background-color: #f0f8ff;border: 1px dotted black;border-radius: 0.25em;box-sizing: border-box;margin-bottom: 0.5em;}#sk-container-id-5 div.sk-estimator:hover {background-color: #d4ebff;}#sk-container-id-5 div.sk-parallel-item::after {content: \"\";width: 100%;border-bottom: 1px solid gray;flex-grow: 1;}#sk-container-id-5 div.sk-label:hover label.sk-toggleable__label {background-color: #d4ebff;}#sk-container-id-5 div.sk-serial::before {content: \"\";position: absolute;border-left: 1px solid gray;box-sizing: border-box;top: 0;bottom: 0;left: 50%;z-index: 0;}#sk-container-id-5 div.sk-serial {display: flex;flex-direction: column;align-items: center;background-color: white;padding-right: 0.2em;padding-left: 0.2em;position: relative;}#sk-container-id-5 div.sk-item {position: relative;z-index: 1;}#sk-container-id-5 div.sk-parallel {display: flex;align-items: stretch;justify-content: center;background-color: white;position: relative;}#sk-container-id-5 div.sk-item::before, #sk-container-id-5 div.sk-parallel-item::before {content: \"\";position: absolute;border-left: 1px solid gray;box-sizing: border-box;top: 0;bottom: 0;left: 50%;z-index: -1;}#sk-container-id-5 div.sk-parallel-item {display: flex;flex-direction: column;z-index: 1;position: relative;background-color: white;}#sk-container-id-5 div.sk-parallel-item:first-child::after {align-self: flex-end;width: 50%;}#sk-container-id-5 div.sk-parallel-item:last-child::after {align-self: flex-start;width: 50%;}#sk-container-id-5 div.sk-parallel-item:only-child::after {width: 0;}#sk-container-id-5 div.sk-dashed-wrapped {border: 1px dashed gray;margin: 0 0.4em 0.5em 0.4em;box-sizing: border-box;padding-bottom: 0.4em;background-color: white;}#sk-container-id-5 div.sk-label label {font-family: monospace;font-weight: bold;display: inline-block;line-height: 1.2em;}#sk-container-id-5 div.sk-label-container {text-align: center;}#sk-container-id-5 div.sk-container {/* jupyter's `normalize.less` sets `[hidden] { display: none; }` but bootstrap.min.css set `[hidden] { display: none !important; }` so we also need the `!important` here to be able to override the default hidden behavior on the sphinx rendered scikit-learn.org. See: https://github.com/scikit-learn/scikit-learn/issues/21755 */display: inline-block !important;position: relative;}#sk-container-id-5 div.sk-text-repr-fallback {display: none;}</style><div id=\"sk-container-id-5\" class=\"sk-top-container\"><div class=\"sk-text-repr-fallback\"><pre>XGBRegressor(base_score=None, booster=None, callbacks=None,\n",
       "             colsample_bylevel=None, colsample_bynode=None,\n",
       "             colsample_bytree=0.9, device=None, early_stopping_rounds=None,\n",
       "             enable_categorical=True, eval_metric=None, feature_types=None,\n",
       "             gamma=None, grow_policy=None, importance_type=None,\n",
       "             interaction_constraints=None, learning_rate=0.1, max_bin=None,\n",
       "             max_cat_threshold=None, max_cat_to_onehot=None,\n",
       "             max_delta_step=None, max_depth=10, max_leaves=None,\n",
       "             min_child_weight=1, missing=nan, monotone_constraints=None,\n",
       "             multi_strategy=None, n_estimators=700, n_jobs=None,\n",
       "             num_parallel_tree=None, random_state=42, ...)</pre><b>In a Jupyter environment, please rerun this cell to show the HTML representation or trust the notebook. <br />On GitHub, the HTML representation is unable to render, please try loading this page with nbviewer.org.</b></div><div class=\"sk-container\" hidden><div class=\"sk-item\"><div class=\"sk-estimator sk-toggleable\"><input class=\"sk-toggleable__control sk-hidden--visually\" id=\"sk-estimator-id-5\" type=\"checkbox\" checked><label for=\"sk-estimator-id-5\" class=\"sk-toggleable__label sk-toggleable__label-arrow\">XGBRegressor</label><div class=\"sk-toggleable__content\"><pre>XGBRegressor(base_score=None, booster=None, callbacks=None,\n",
       "             colsample_bylevel=None, colsample_bynode=None,\n",
       "             colsample_bytree=0.9, device=None, early_stopping_rounds=None,\n",
       "             enable_categorical=True, eval_metric=None, feature_types=None,\n",
       "             gamma=None, grow_policy=None, importance_type=None,\n",
       "             interaction_constraints=None, learning_rate=0.1, max_bin=None,\n",
       "             max_cat_threshold=None, max_cat_to_onehot=None,\n",
       "             max_delta_step=None, max_depth=10, max_leaves=None,\n",
       "             min_child_weight=1, missing=nan, monotone_constraints=None,\n",
       "             multi_strategy=None, n_estimators=700, n_jobs=None,\n",
       "             num_parallel_tree=None, random_state=42, ...)</pre></div></div></div></div></div>"
      ],
      "text/plain": [
       "XGBRegressor(base_score=None, booster=None, callbacks=None,\n",
       "             colsample_bylevel=None, colsample_bynode=None,\n",
       "             colsample_bytree=0.9, device=None, early_stopping_rounds=None,\n",
       "             enable_categorical=True, eval_metric=None, feature_types=None,\n",
       "             gamma=None, grow_policy=None, importance_type=None,\n",
       "             interaction_constraints=None, learning_rate=0.1, max_bin=None,\n",
       "             max_cat_threshold=None, max_cat_to_onehot=None,\n",
       "             max_delta_step=None, max_depth=10, max_leaves=None,\n",
       "             min_child_weight=1, missing=nan, monotone_constraints=None,\n",
       "             multi_strategy=None, n_estimators=700, n_jobs=None,\n",
       "             num_parallel_tree=None, random_state=42, ...)"
      ]
     },
     "execution_count": 366,
     "metadata": {},
     "output_type": "execute_result"
    }
   ],
   "source": [
    "xgb_reg_model_5.fit(X_train, y_train)"
   ]
  },
  {
   "cell_type": "code",
   "execution_count": 414,
   "metadata": {},
   "outputs": [
    {
     "data": {
      "text/html": [
       "<style>#sk-container-id-7 {color: black;}#sk-container-id-7 pre{padding: 0;}#sk-container-id-7 div.sk-toggleable {background-color: white;}#sk-container-id-7 label.sk-toggleable__label {cursor: pointer;display: block;width: 100%;margin-bottom: 0;padding: 0.3em;box-sizing: border-box;text-align: center;}#sk-container-id-7 label.sk-toggleable__label-arrow:before {content: \"▸\";float: left;margin-right: 0.25em;color: #696969;}#sk-container-id-7 label.sk-toggleable__label-arrow:hover:before {color: black;}#sk-container-id-7 div.sk-estimator:hover label.sk-toggleable__label-arrow:before {color: black;}#sk-container-id-7 div.sk-toggleable__content {max-height: 0;max-width: 0;overflow: hidden;text-align: left;background-color: #f0f8ff;}#sk-container-id-7 div.sk-toggleable__content pre {margin: 0.2em;color: black;border-radius: 0.25em;background-color: #f0f8ff;}#sk-container-id-7 input.sk-toggleable__control:checked~div.sk-toggleable__content {max-height: 200px;max-width: 100%;overflow: auto;}#sk-container-id-7 input.sk-toggleable__control:checked~label.sk-toggleable__label-arrow:before {content: \"▾\";}#sk-container-id-7 div.sk-estimator input.sk-toggleable__control:checked~label.sk-toggleable__label {background-color: #d4ebff;}#sk-container-id-7 div.sk-label input.sk-toggleable__control:checked~label.sk-toggleable__label {background-color: #d4ebff;}#sk-container-id-7 input.sk-hidden--visually {border: 0;clip: rect(1px 1px 1px 1px);clip: rect(1px, 1px, 1px, 1px);height: 1px;margin: -1px;overflow: hidden;padding: 0;position: absolute;width: 1px;}#sk-container-id-7 div.sk-estimator {font-family: monospace;background-color: #f0f8ff;border: 1px dotted black;border-radius: 0.25em;box-sizing: border-box;margin-bottom: 0.5em;}#sk-container-id-7 div.sk-estimator:hover {background-color: #d4ebff;}#sk-container-id-7 div.sk-parallel-item::after {content: \"\";width: 100%;border-bottom: 1px solid gray;flex-grow: 1;}#sk-container-id-7 div.sk-label:hover label.sk-toggleable__label {background-color: #d4ebff;}#sk-container-id-7 div.sk-serial::before {content: \"\";position: absolute;border-left: 1px solid gray;box-sizing: border-box;top: 0;bottom: 0;left: 50%;z-index: 0;}#sk-container-id-7 div.sk-serial {display: flex;flex-direction: column;align-items: center;background-color: white;padding-right: 0.2em;padding-left: 0.2em;position: relative;}#sk-container-id-7 div.sk-item {position: relative;z-index: 1;}#sk-container-id-7 div.sk-parallel {display: flex;align-items: stretch;justify-content: center;background-color: white;position: relative;}#sk-container-id-7 div.sk-item::before, #sk-container-id-7 div.sk-parallel-item::before {content: \"\";position: absolute;border-left: 1px solid gray;box-sizing: border-box;top: 0;bottom: 0;left: 50%;z-index: -1;}#sk-container-id-7 div.sk-parallel-item {display: flex;flex-direction: column;z-index: 1;position: relative;background-color: white;}#sk-container-id-7 div.sk-parallel-item:first-child::after {align-self: flex-end;width: 50%;}#sk-container-id-7 div.sk-parallel-item:last-child::after {align-self: flex-start;width: 50%;}#sk-container-id-7 div.sk-parallel-item:only-child::after {width: 0;}#sk-container-id-7 div.sk-dashed-wrapped {border: 1px dashed gray;margin: 0 0.4em 0.5em 0.4em;box-sizing: border-box;padding-bottom: 0.4em;background-color: white;}#sk-container-id-7 div.sk-label label {font-family: monospace;font-weight: bold;display: inline-block;line-height: 1.2em;}#sk-container-id-7 div.sk-label-container {text-align: center;}#sk-container-id-7 div.sk-container {/* jupyter's `normalize.less` sets `[hidden] { display: none; }` but bootstrap.min.css set `[hidden] { display: none !important; }` so we also need the `!important` here to be able to override the default hidden behavior on the sphinx rendered scikit-learn.org. See: https://github.com/scikit-learn/scikit-learn/issues/21755 */display: inline-block !important;position: relative;}#sk-container-id-7 div.sk-text-repr-fallback {display: none;}</style><div id=\"sk-container-id-7\" class=\"sk-top-container\"><div class=\"sk-text-repr-fallback\"><pre>XGBRegressor(base_score=None, booster=None, callbacks=None,\n",
       "             colsample_bylevel=None, colsample_bynode=None,\n",
       "             colsample_bytree=0.9, device=None, early_stopping_rounds=None,\n",
       "             enable_categorical=True, eval_metric=None, feature_types=None,\n",
       "             gamma=None, grow_policy=None, importance_type=None,\n",
       "             interaction_constraints=None, learning_rate=0.1, max_bin=None,\n",
       "             max_cat_threshold=None, max_cat_to_onehot=None,\n",
       "             max_delta_step=None, max_depth=10, max_leaves=None,\n",
       "             min_child_weight=1, missing=nan, monotone_constraints=None,\n",
       "             multi_strategy=None, n_estimators=700, n_jobs=None,\n",
       "             num_parallel_tree=None, random_state=42, ...)</pre><b>In a Jupyter environment, please rerun this cell to show the HTML representation or trust the notebook. <br />On GitHub, the HTML representation is unable to render, please try loading this page with nbviewer.org.</b></div><div class=\"sk-container\" hidden><div class=\"sk-item\"><div class=\"sk-estimator sk-toggleable\"><input class=\"sk-toggleable__control sk-hidden--visually\" id=\"sk-estimator-id-7\" type=\"checkbox\" checked><label for=\"sk-estimator-id-7\" class=\"sk-toggleable__label sk-toggleable__label-arrow\">XGBRegressor</label><div class=\"sk-toggleable__content\"><pre>XGBRegressor(base_score=None, booster=None, callbacks=None,\n",
       "             colsample_bylevel=None, colsample_bynode=None,\n",
       "             colsample_bytree=0.9, device=None, early_stopping_rounds=None,\n",
       "             enable_categorical=True, eval_metric=None, feature_types=None,\n",
       "             gamma=None, grow_policy=None, importance_type=None,\n",
       "             interaction_constraints=None, learning_rate=0.1, max_bin=None,\n",
       "             max_cat_threshold=None, max_cat_to_onehot=None,\n",
       "             max_delta_step=None, max_depth=10, max_leaves=None,\n",
       "             min_child_weight=1, missing=nan, monotone_constraints=None,\n",
       "             multi_strategy=None, n_estimators=700, n_jobs=None,\n",
       "             num_parallel_tree=None, random_state=42, ...)</pre></div></div></div></div></div>"
      ],
      "text/plain": [
       "XGBRegressor(base_score=None, booster=None, callbacks=None,\n",
       "             colsample_bylevel=None, colsample_bynode=None,\n",
       "             colsample_bytree=0.9, device=None, early_stopping_rounds=None,\n",
       "             enable_categorical=True, eval_metric=None, feature_types=None,\n",
       "             gamma=None, grow_policy=None, importance_type=None,\n",
       "             interaction_constraints=None, learning_rate=0.1, max_bin=None,\n",
       "             max_cat_threshold=None, max_cat_to_onehot=None,\n",
       "             max_delta_step=None, max_depth=10, max_leaves=None,\n",
       "             min_child_weight=1, missing=nan, monotone_constraints=None,\n",
       "             multi_strategy=None, n_estimators=700, n_jobs=None,\n",
       "             num_parallel_tree=None, random_state=42, ...)"
      ]
     },
     "execution_count": 414,
     "metadata": {},
     "output_type": "execute_result"
    }
   ],
   "source": [
    "xgb_reg_model_5.fit(X_train, y_train)"
   ]
  },
  {
   "cell_type": "code",
   "execution_count": 270,
   "metadata": {},
   "outputs": [
    {
     "data": {
      "text/plain": [
       "(0.7448486939040161, 0.744848693904016, 0.7498406900860877, 0.747551759627985)"
      ]
     },
     "execution_count": 270,
     "metadata": {},
     "output_type": "execute_result"
    }
   ],
   "source": [
    "xgb_reg_model_6 = xgb.XGBRegressor(\n",
    "    objective='reg:squarederror',\n",
    "    learning_rate=0.1,\n",
    "    max_depth=8,\n",
    "    n_estimators=700,\n",
    "    min_child_weight=1,\n",
    "    subsample=0.9,\n",
    "    colsample_bytree=0.9,\n",
    "    reg_alpha=2.0,\n",
    "    reg_lambda=1.0,\n",
    "    random_state=42,\n",
    "    enable_categorical=True\n",
    ")\n",
    "\n",
    "xgb_reg_model_6.fit(X_train, y_train)\n",
    "y_preds = np.clip(np.round(xgb_reg_model_6.predict(X_val)).astype(int),0,4)\n",
    "accuracy_score(y_pred=y_preds, y_true=y_val), f1_score(y_pred=y_preds, y_true=y_val, average='micro'), f1_score(y_pred=y_preds, y_true=y_val, average='macro'), f1_score(y_pred=y_preds, y_true=y_val, average='weighted')"
   ]
  },
  {
   "cell_type": "code",
   "execution_count": null,
   "metadata": {},
   "outputs": [],
   "source": []
  },
  {
   "cell_type": "code",
   "execution_count": null,
   "metadata": {},
   "outputs": [],
   "source": []
  },
  {
   "cell_type": "code",
   "execution_count": 368,
   "metadata": {},
   "outputs": [],
   "source": [
    "X_test_not_augmented = X_test.drop(columns=['mean_annual_temperature_deviation', 'mean_annual_precipitation_deviation'])"
   ]
  },
  {
   "cell_type": "code",
   "execution_count": null,
   "metadata": {},
   "outputs": [],
   "source": [
    "y_test_preds = lgb_model.predict(X_test)"
   ]
  },
  {
   "cell_type": "code",
   "execution_count": 515,
   "metadata": {},
   "outputs": [
    {
     "name": "stdout",
     "output_type": "stream",
     "text": [
      "[LightGBM] [Warning] min_data_in_leaf is set=1, min_child_samples=20 will be ignored. Current value: min_data_in_leaf=1\n"
     ]
    }
   ],
   "source": [
    "test_preds = np.round(lgb_model.predict(X_test)).astype(int)\n",
    "test_preds = np.clip(test_preds, 0, 4)"
   ]
  },
  {
   "cell_type": "code",
   "execution_count": 516,
   "metadata": {},
   "outputs": [],
   "source": [
    "y_preds_df = pd.DataFrame({\n",
    "    'row_index': X_test.index,\n",
    "    'piezo_groundwater_level_category': test_preds\n",
    "})\n",
    "\n",
    "y_preds_df['piezo_groundwater_level_category'] = y_preds_df['piezo_groundwater_level_category'].map(groundwater_id_to_cat)"
   ]
  },
  {
   "cell_type": "code",
   "execution_count": 517,
   "metadata": {},
   "outputs": [],
   "source": [
    "y_preds_df.to_csv('y_test_pred_lgb_depth_10_augmented_and_full_exclude_winter.csv', index=False)"
   ]
  },
  {
   "cell_type": "code",
   "execution_count": null,
   "metadata": {},
   "outputs": [],
   "source": [
    "y_preds"
   ]
  },
  {
   "cell_type": "code",
   "execution_count": null,
   "metadata": {},
   "outputs": [
    {
     "name": "stdout",
     "output_type": "stream",
     "text": [
      "XGB Reg converting piezo_status and piezo_measure_nature_name to number\n"
     ]
    },
    {
     "data": {
      "text/plain": [
       "(0.8261577177429201, 0.82615771774292, 0.5934371188109461, 0.8279361012965908)"
      ]
     },
     "execution_count": 175,
     "metadata": {},
     "output_type": "execute_result"
    }
   ],
   "source": [
    "# xgb_reg_model = xgb.XGBRegressor(\n",
    "#     objective='reg:squarederror',\n",
    "#     learning_rate=0.1,\n",
    "#     max_depth=10,\n",
    "#     n_estimators=500,\n",
    "#     random_state=42,\n",
    "#     enable_categorical=True\n",
    "# )\n",
    "\n",
    "print('XGB Reg converting piezo_status and piezo_measure_nature_name to number')\n",
    "# y_preds = xgb_reg_model.predict(X_val)\n",
    "y_preds = np.round(xgb_reg_model.predict(X_val)).astype(int)\n",
    "accuracy_score(y_pred=y_preds, y_true=y_val), f1_score(y_pred=y_preds, y_true=y_val, average='micro'), f1_score(y_pred=y_preds, y_true=y_val, average='macro'), f1_score(y_pred=y_preds, y_true=y_val, average='weighted')"
   ]
  },
  {
   "cell_type": "code",
   "execution_count": null,
   "metadata": {},
   "outputs": [],
   "source": [
    "# objective='reg:squarederror',\n",
    "# learning_rate=0.1,\n",
    "# max_depth=10,\n",
    "# n_estimators=500,\n",
    "# random_state=42,\n",
    "# enable_categorical=True"
   ]
  },
  {
   "cell_type": "code",
   "execution_count": 138,
   "metadata": {},
   "outputs": [
    {
     "name": "stdout",
     "output_type": "stream",
     "text": [
      "XGB Reg\n"
     ]
    },
    {
     "data": {
      "text/plain": [
       "(0.8277484794712318,\n",
       " 0.8277484794712316,\n",
       " 0.5945197883126434,\n",
       " 0.8294912182681218)"
      ]
     },
     "execution_count": 138,
     "metadata": {},
     "output_type": "execute_result"
    }
   ],
   "source": [
    "print('XGB Reg')\n",
    "# y_preds = xgb_reg_model.predict(X_val)\n",
    "y_preds = np.round(xgb_reg_model.predict(X_val)).astype(int)\n",
    "accuracy_score(y_pred=y_preds, y_true=y_val), f1_score(y_pred=y_preds, y_true=y_val, average='micro'), f1_score(y_pred=y_preds, y_true=y_val, average='macro'), f1_score(y_pred=y_preds, y_true=y_val, average='weighted')"
   ]
  },
  {
   "cell_type": "code",
   "execution_count": 78,
   "metadata": {},
   "outputs": [],
   "source": [
    "xgb_model = xgb.XGBClassifier(random_state=42, use_label_encoder=False, enable_categorical=True)"
   ]
  },
  {
   "cell_type": "code",
   "execution_count": 79,
   "metadata": {},
   "outputs": [
    {
     "name": "stderr",
     "output_type": "stream",
     "text": [
      "c:\\Users\\festi\\Python\\Python311\\Lib\\site-packages\\xgboost\\core.py:158: UserWarning: [10:51:46] WARNING: C:\\buildkite-agent\\builds\\buildkite-windows-cpu-autoscaling-group-i-0c55ff5f71b100e98-1\\xgboost\\xgboost-ci-windows\\src\\learner.cc:740: \n",
      "Parameters: { \"use_label_encoder\" } are not used.\n",
      "\n",
      "  warnings.warn(smsg, UserWarning)\n"
     ]
    },
    {
     "name": "stdout",
     "output_type": "stream",
     "text": [
      "With year, drop _prelev, keep all corr, keep only CORRECT\n"
     ]
    },
    {
     "data": {
      "text/plain": [
       "(0.6462205081590225,\n",
       " 0.6462205081590225,\n",
       " 0.6535620067752111,\n",
       " 0.6456027626169899)"
      ]
     },
     "execution_count": 79,
     "metadata": {},
     "output_type": "execute_result"
    }
   ],
   "source": [
    "xgb_model.fit(X_train, y_train)\n",
    "print('With year, drop _prelev, keep all corr, keep only CORRECT')\n",
    "y_preds = xgb_model.predict(X_val)\n",
    "accuracy_score(y_pred=y_preds, y_true=y_val), f1_score(y_pred=y_preds, y_true=y_val, average='micro'), f1_score(y_pred=y_preds, y_true=y_val, average='macro'), f1_score(y_pred=y_preds, y_true=y_val, average='weighted')"
   ]
  },
  {
   "cell_type": "code",
   "execution_count": 45,
   "metadata": {},
   "outputs": [
    {
     "name": "stderr",
     "output_type": "stream",
     "text": [
      "c:\\Users\\festi\\Python\\Python311\\Lib\\site-packages\\xgboost\\core.py:158: UserWarning: [10:45:48] WARNING: C:\\buildkite-agent\\builds\\buildkite-windows-cpu-autoscaling-group-i-0c55ff5f71b100e98-1\\xgboost\\xgboost-ci-windows\\src\\learner.cc:740: \n",
      "Parameters: { \"use_label_encoder\" } are not used.\n",
      "\n",
      "  warnings.warn(smsg, UserWarning)\n"
     ]
    },
    {
     "name": "stdout",
     "output_type": "stream",
     "text": [
      "With year, drop _prelev, keep all corr\n"
     ]
    },
    {
     "data": {
      "text/plain": [
       "0.6474933649114946"
      ]
     },
     "execution_count": 45,
     "metadata": {},
     "output_type": "execute_result"
    }
   ],
   "source": [
    "xgb_model.fit(X_train, y_train)\n",
    "print('With year, drop _prelev, keep all corr')\n",
    "y_preds = xgb_model.predict(X_val)\n",
    "accuracy_score(y_pred=y_preds, y_true=y_val)"
   ]
  },
  {
   "cell_type": "code",
   "execution_count": 46,
   "metadata": {},
   "outputs": [
    {
     "data": {
      "text/plain": [
       "(0.6474933649114946, 0.6541321291660024, 0.6466243894333445)"
      ]
     },
     "execution_count": 46,
     "metadata": {},
     "output_type": "execute_result"
    }
   ],
   "source": [
    "f1_score(y_pred=y_preds, y_true=y_val, average='micro'), f1_score(y_pred=y_preds, y_true=y_val, average='macro'), f1_score(y_pred=y_preds, y_true=y_val, average='weighted')"
   ]
  },
  {
   "cell_type": "code",
   "execution_count": 44,
   "metadata": {},
   "outputs": [
    {
     "data": {
      "text/plain": [
       "(0.6474933649114946, 0.6541321291660024, 0.6466243894333445)"
      ]
     },
     "execution_count": 44,
     "metadata": {},
     "output_type": "execute_result"
    }
   ],
   "source": [
    "f1_score(y_pred=y_preds, y_true=y_val, average='micro'), f1_score(y_pred=y_preds, y_true=y_val, average='macro'), f1_score(y_pred=y_preds, y_true=y_val, average='weighted')"
   ]
  },
  {
   "cell_type": "code",
   "execution_count": null,
   "metadata": {},
   "outputs": [],
   "source": [
    "param_grid = {\n",
    "    'n_estimators': [100, 200, 300],\n",
    "    'max_depth': [3, 5, 7],\n",
    "    'learning_rate': [0.01, 0.1, 0.2],\n",
    "    'subsample': [0.8, 1.0],\n",
    "    'colsample_bytree': [0.8, 1.0],\n",
    "}"
   ]
  },
  {
   "cell_type": "code",
   "execution_count": 88,
   "metadata": {},
   "outputs": [
    {
     "name": "stderr",
     "output_type": "stream",
     "text": [
      "c:\\Users\\festi\\Python\\Python311\\Lib\\site-packages\\xgboost\\core.py:158: UserWarning: [09:58:53] WARNING: C:\\buildkite-agent\\builds\\buildkite-windows-cpu-autoscaling-group-i-0c55ff5f71b100e98-1\\xgboost\\xgboost-ci-windows\\src\\learner.cc:740: \n",
      "Parameters: { \"use_label_encoder\" } are not used.\n",
      "\n",
      "  warnings.warn(smsg, UserWarning)\n"
     ]
    },
    {
     "name": "stdout",
     "output_type": "stream",
     "text": [
      "Drop num cols with corr < 1%\n"
     ]
    },
    {
     "data": {
      "text/plain": [
       "0.6288125829015636"
      ]
     },
     "execution_count": 88,
     "metadata": {},
     "output_type": "execute_result"
    }
   ],
   "source": [
    "xgb_model.fit(X_train, y_train)\n",
    "print('Drop num cols with corr < 1%')\n",
    "y_preds = xgb_model.predict(X_val)\n",
    "accuracy_score(y_preds, y_val)"
   ]
  },
  {
   "cell_type": "code",
   "execution_count": 45,
   "metadata": {},
   "outputs": [
    {
     "name": "stdout",
     "output_type": "stream",
     "text": [
      "Truly drop prelev_\n"
     ]
    },
    {
     "data": {
      "text/plain": [
       "0.6472687379759394"
      ]
     },
     "execution_count": 45,
     "metadata": {},
     "output_type": "execute_result"
    }
   ],
   "source": [
    "print('Truly drop prelev_')\n",
    "y_preds = xgb_model.predict(X_val)\n",
    "accuracy_score(y_preds, y_val)"
   ]
  },
  {
   "cell_type": "code",
   "execution_count": 54,
   "metadata": {},
   "outputs": [
    {
     "name": "stdout",
     "output_type": "stream",
     "text": [
      "Collecting graphviz"
     ]
    },
    {
     "name": "stderr",
     "output_type": "stream",
     "text": [
      "\n",
      "[notice] A new release of pip is available: 23.3.1 -> 24.3.1\n",
      "[notice] To update, run: python.exe -m pip install --upgrade pip\n"
     ]
    },
    {
     "name": "stdout",
     "output_type": "stream",
     "text": [
      "\n",
      "  Downloading graphviz-0.20.3-py3-none-any.whl.metadata (12 kB)\n",
      "Downloading graphviz-0.20.3-py3-none-any.whl (47 kB)\n",
      "   ---------------------------------------- 0.0/47.1 kB ? eta -:--:--\n",
      "   ---------------------------------------- 47.1/47.1 kB 2.3 MB/s eta 0:00:00\n",
      "Installing collected packages: graphviz\n",
      "Successfully installed graphviz-0.20.3\n"
     ]
    }
   ],
   "source": [
    "!pip install graphviz"
   ]
  },
  {
   "cell_type": "code",
   "execution_count": 51,
   "metadata": {},
   "outputs": [
    {
     "name": "stdout",
     "output_type": "stream",
     "text": [
      "Tree\n",
      "0      124\n",
      "1      126\n",
      "2      126\n",
      "3      126\n",
      "4      124\n",
      "      ... \n",
      "495    126\n",
      "496    124\n",
      "497     94\n",
      "498    120\n",
      "499    112\n",
      "Name: Node, Length: 500, dtype: int64\n"
     ]
    }
   ],
   "source": [
    "tree_df = xgb_model.get_booster().trees_to_dataframe()\n",
    "\n",
    "# Calculate the maximum depth of each tree\n",
    "tree_depths = tree_df.groupby('Tree')['Node'].max()\n",
    "print(tree_depths)"
   ]
  },
  {
   "cell_type": "code",
   "execution_count": null,
   "metadata": {},
   "outputs": [
    {
     "data": {
      "text/html": [
       "<div>\n",
       "<style scoped>\n",
       "    .dataframe tbody tr th:only-of-type {\n",
       "        vertical-align: middle;\n",
       "    }\n",
       "\n",
       "    .dataframe tbody tr th {\n",
       "        vertical-align: top;\n",
       "    }\n",
       "\n",
       "    .dataframe thead th {\n",
       "        text-align: right;\n",
       "    }\n",
       "</style>\n",
       "<table border=\"1\" class=\"dataframe\">\n",
       "  <thead>\n",
       "    <tr style=\"text-align: right;\">\n",
       "      <th></th>\n",
       "      <th>Feature</th>\n",
       "      <th>Importance</th>\n",
       "    </tr>\n",
       "  </thead>\n",
       "  <tbody>\n",
       "    <tr>\n",
       "      <th>50</th>\n",
       "      <td>Alluvions</td>\n",
       "      <td>320.182220</td>\n",
       "    </tr>\n",
       "    <tr>\n",
       "      <th>52</th>\n",
       "      <td>Gravel</td>\n",
       "      <td>273.660919</td>\n",
       "    </tr>\n",
       "    <tr>\n",
       "      <th>49</th>\n",
       "      <td>year</td>\n",
       "      <td>269.156921</td>\n",
       "    </tr>\n",
       "    <tr>\n",
       "      <th>53</th>\n",
       "      <td>Limestones</td>\n",
       "      <td>265.247223</td>\n",
       "    </tr>\n",
       "    <tr>\n",
       "      <th>47</th>\n",
       "      <td>day_sin</td>\n",
       "      <td>260.928833</td>\n",
       "    </tr>\n",
       "    <tr>\n",
       "      <th>...</th>\n",
       "      <td>...</td>\n",
       "      <td>...</td>\n",
       "    </tr>\n",
       "    <tr>\n",
       "      <th>17</th>\n",
       "      <td>meteo_amplitude_tn_tx</td>\n",
       "      <td>22.345385</td>\n",
       "    </tr>\n",
       "    <tr>\n",
       "      <th>29</th>\n",
       "      <td>meteo_time_humidity_min</td>\n",
       "      <td>18.139111</td>\n",
       "    </tr>\n",
       "    <tr>\n",
       "      <th>13</th>\n",
       "      <td>meteo_time_tx</td>\n",
       "      <td>15.754864</td>\n",
       "    </tr>\n",
       "    <tr>\n",
       "      <th>31</th>\n",
       "      <td>meteo_time_humidity_max</td>\n",
       "      <td>13.913808</td>\n",
       "    </tr>\n",
       "    <tr>\n",
       "      <th>25</th>\n",
       "      <td>meteo_time_wind_avg</td>\n",
       "      <td>3.158748</td>\n",
       "    </tr>\n",
       "  </tbody>\n",
       "</table>\n",
       "<p>67 rows × 2 columns</p>\n",
       "</div>"
      ],
      "text/plain": [
       "                    Feature  Importance\n",
       "50                Alluvions  320.182220\n",
       "52                   Gravel  273.660919\n",
       "49                     year  269.156921\n",
       "53               Limestones  265.247223\n",
       "47                  day_sin  260.928833\n",
       "..                      ...         ...\n",
       "17    meteo_amplitude_tn_tx   22.345385\n",
       "29  meteo_time_humidity_min   18.139111\n",
       "13            meteo_time_tx   15.754864\n",
       "31  meteo_time_humidity_max   13.913808\n",
       "25      meteo_time_wind_avg    3.158748\n",
       "\n",
       "[67 rows x 2 columns]"
      ]
     },
     "execution_count": 46,
     "metadata": {},
     "output_type": "execute_result"
    }
   ],
   "source": [
    "importance = xgb_model.get_booster().get_score(importance_type='gain')\n",
    "\n",
    "importance_df = pd.DataFrame({\n",
    "    'Feature': list(importance.keys()),\n",
    "    'Importance': list(importance.values())\n",
    "}).sort_values(by='Importance', ascending=False)\n",
    "\n",
    "importance_df"
   ]
  },
  {
   "cell_type": "code",
   "execution_count": 57,
   "metadata": {},
   "outputs": [
    {
     "data": {
      "text/html": [
       "<div>\n",
       "<style scoped>\n",
       "    .dataframe tbody tr th:only-of-type {\n",
       "        vertical-align: middle;\n",
       "    }\n",
       "\n",
       "    .dataframe tbody tr th {\n",
       "        vertical-align: top;\n",
       "    }\n",
       "\n",
       "    .dataframe thead th {\n",
       "        text-align: right;\n",
       "    }\n",
       "</style>\n",
       "<table border=\"1\" class=\"dataframe\">\n",
       "  <thead>\n",
       "    <tr style=\"text-align: right;\">\n",
       "      <th></th>\n",
       "      <th>Feature</th>\n",
       "      <th>Importance</th>\n",
       "    </tr>\n",
       "  </thead>\n",
       "  <tbody>\n",
       "    <tr>\n",
       "      <th>50</th>\n",
       "      <td>Alluvions</td>\n",
       "      <td>320.182220</td>\n",
       "    </tr>\n",
       "    <tr>\n",
       "      <th>52</th>\n",
       "      <td>Gravel</td>\n",
       "      <td>273.660919</td>\n",
       "    </tr>\n",
       "    <tr>\n",
       "      <th>49</th>\n",
       "      <td>year</td>\n",
       "      <td>269.156921</td>\n",
       "    </tr>\n",
       "    <tr>\n",
       "      <th>53</th>\n",
       "      <td>Limestones</td>\n",
       "      <td>265.247223</td>\n",
       "    </tr>\n",
       "    <tr>\n",
       "      <th>47</th>\n",
       "      <td>day_sin</td>\n",
       "      <td>260.928833</td>\n",
       "    </tr>\n",
       "    <tr>\n",
       "      <th>55</th>\n",
       "      <td>Massif</td>\n",
       "      <td>252.686462</td>\n",
       "    </tr>\n",
       "    <tr>\n",
       "      <th>56</th>\n",
       "      <td>Other</td>\n",
       "      <td>250.050110</td>\n",
       "    </tr>\n",
       "    <tr>\n",
       "      <th>7</th>\n",
       "      <td>meteo_longitude</td>\n",
       "      <td>245.815521</td>\n",
       "    </tr>\n",
       "    <tr>\n",
       "      <th>2</th>\n",
       "      <td>piezo_station_longitude</td>\n",
       "      <td>244.697189</td>\n",
       "    </tr>\n",
       "    <tr>\n",
       "      <th>6</th>\n",
       "      <td>meteo_latitude</td>\n",
       "      <td>238.387543</td>\n",
       "    </tr>\n",
       "    <tr>\n",
       "      <th>51</th>\n",
       "      <td>Basement</td>\n",
       "      <td>233.941528</td>\n",
       "    </tr>\n",
       "    <tr>\n",
       "      <th>54</th>\n",
       "      <td>Marls</td>\n",
       "      <td>221.558502</td>\n",
       "    </tr>\n",
       "    <tr>\n",
       "      <th>0</th>\n",
       "      <td>piezo_station_investigation_depth</td>\n",
       "      <td>213.016190</td>\n",
       "    </tr>\n",
       "    <tr>\n",
       "      <th>57</th>\n",
       "      <td>Paleogeological Epochs</td>\n",
       "      <td>211.844971</td>\n",
       "    </tr>\n",
       "    <tr>\n",
       "      <th>3</th>\n",
       "      <td>piezo_station_latitude</td>\n",
       "      <td>209.895142</td>\n",
       "    </tr>\n",
       "    <tr>\n",
       "      <th>8</th>\n",
       "      <td>meteo_altitude</td>\n",
       "      <td>200.008591</td>\n",
       "    </tr>\n",
       "    <tr>\n",
       "      <th>58</th>\n",
       "      <td>Sands</td>\n",
       "      <td>197.762939</td>\n",
       "    </tr>\n",
       "    <tr>\n",
       "      <th>61</th>\n",
       "      <td>prelev_volume_2</td>\n",
       "      <td>192.174255</td>\n",
       "    </tr>\n",
       "    <tr>\n",
       "      <th>1</th>\n",
       "      <td>piezo_station_altitude</td>\n",
       "      <td>186.944244</td>\n",
       "    </tr>\n",
       "    <tr>\n",
       "      <th>42</th>\n",
       "      <td>insee_%_agri</td>\n",
       "      <td>184.479233</td>\n",
       "    </tr>\n",
       "  </tbody>\n",
       "</table>\n",
       "</div>"
      ],
      "text/plain": [
       "                              Feature  Importance\n",
       "50                          Alluvions  320.182220\n",
       "52                             Gravel  273.660919\n",
       "49                               year  269.156921\n",
       "53                         Limestones  265.247223\n",
       "47                            day_sin  260.928833\n",
       "55                             Massif  252.686462\n",
       "56                              Other  250.050110\n",
       "7                     meteo_longitude  245.815521\n",
       "2             piezo_station_longitude  244.697189\n",
       "6                      meteo_latitude  238.387543\n",
       "51                           Basement  233.941528\n",
       "54                              Marls  221.558502\n",
       "0   piezo_station_investigation_depth  213.016190\n",
       "57             Paleogeological Epochs  211.844971\n",
       "3              piezo_station_latitude  209.895142\n",
       "8                      meteo_altitude  200.008591\n",
       "58                              Sands  197.762939\n",
       "61                    prelev_volume_2  192.174255\n",
       "1              piezo_station_altitude  186.944244\n",
       "42                       insee_%_agri  184.479233"
      ]
     },
     "execution_count": 57,
     "metadata": {},
     "output_type": "execute_result"
    }
   ],
   "source": [
    "importance_df.head(20)"
   ]
  },
  {
   "cell_type": "code",
   "execution_count": null,
   "metadata": {},
   "outputs": [
    {
     "name": "stdout",
     "output_type": "stream",
     "text": [
      "Keeping year\n"
     ]
    },
    {
     "data": {
      "text/plain": [
       "0.648771189906368"
      ]
     },
     "execution_count": 43,
     "metadata": {},
     "output_type": "execute_result"
    }
   ],
   "source": [
    "print('Keeping year')\n",
    "y_preds = xgb_model.predict(X_val)\n",
    "accuracy_score(y_preds, y_val)"
   ]
  },
  {
   "cell_type": "code",
   "execution_count": null,
   "metadata": {},
   "outputs": [],
   "source": [
    "importance = xgb_model.get_booster().get_score(importance_type='gain')\n",
    "\n",
    "importance_df = pd.DataFrame({\n",
    "    'Feature': list(importance.keys()),\n",
    "    'Importance': list(importance.values())\n",
    "}).sort_values(by='Importance', ascending=False)"
   ]
  },
  {
   "cell_type": "code",
   "execution_count": null,
   "metadata": {},
   "outputs": [
    {
     "data": {
      "text/html": [
       "<div>\n",
       "<style scoped>\n",
       "    .dataframe tbody tr th:only-of-type {\n",
       "        vertical-align: middle;\n",
       "    }\n",
       "\n",
       "    .dataframe tbody tr th {\n",
       "        vertical-align: top;\n",
       "    }\n",
       "\n",
       "    .dataframe thead th {\n",
       "        text-align: right;\n",
       "    }\n",
       "</style>\n",
       "<table border=\"1\" class=\"dataframe\">\n",
       "  <thead>\n",
       "    <tr style=\"text-align: right;\">\n",
       "      <th></th>\n",
       "      <th>Feature</th>\n",
       "      <th>Importance</th>\n",
       "    </tr>\n",
       "  </thead>\n",
       "  <tbody>\n",
       "    <tr>\n",
       "      <th>48</th>\n",
       "      <td>prelev_longitude_1</td>\n",
       "      <td>380.471130</td>\n",
       "    </tr>\n",
       "    <tr>\n",
       "      <th>62</th>\n",
       "      <td>year</td>\n",
       "      <td>316.179932</td>\n",
       "    </tr>\n",
       "    <tr>\n",
       "      <th>63</th>\n",
       "      <td>Alluvions</td>\n",
       "      <td>301.569519</td>\n",
       "    </tr>\n",
       "    <tr>\n",
       "      <th>69</th>\n",
       "      <td>Other</td>\n",
       "      <td>263.127380</td>\n",
       "    </tr>\n",
       "    <tr>\n",
       "      <th>7</th>\n",
       "      <td>meteo_longitude</td>\n",
       "      <td>256.715637</td>\n",
       "    </tr>\n",
       "    <tr>\n",
       "      <th>60</th>\n",
       "      <td>day_sin</td>\n",
       "      <td>253.541962</td>\n",
       "    </tr>\n",
       "    <tr>\n",
       "      <th>65</th>\n",
       "      <td>Gravel</td>\n",
       "      <td>250.333847</td>\n",
       "    </tr>\n",
       "    <tr>\n",
       "      <th>45</th>\n",
       "      <td>prelev_latitude_0</td>\n",
       "      <td>244.237000</td>\n",
       "    </tr>\n",
       "    <tr>\n",
       "      <th>66</th>\n",
       "      <td>Limestones</td>\n",
       "      <td>240.191635</td>\n",
       "    </tr>\n",
       "    <tr>\n",
       "      <th>67</th>\n",
       "      <td>Marls</td>\n",
       "      <td>239.629242</td>\n",
       "    </tr>\n",
       "    <tr>\n",
       "      <th>70</th>\n",
       "      <td>Paleogeological Epochs</td>\n",
       "      <td>236.744354</td>\n",
       "    </tr>\n",
       "    <tr>\n",
       "      <th>64</th>\n",
       "      <td>Basement</td>\n",
       "      <td>234.856781</td>\n",
       "    </tr>\n",
       "    <tr>\n",
       "      <th>6</th>\n",
       "      <td>meteo_latitude</td>\n",
       "      <td>232.340775</td>\n",
       "    </tr>\n",
       "    <tr>\n",
       "      <th>68</th>\n",
       "      <td>Massif</td>\n",
       "      <td>227.548676</td>\n",
       "    </tr>\n",
       "    <tr>\n",
       "      <th>44</th>\n",
       "      <td>prelev_longitude_0</td>\n",
       "      <td>225.497177</td>\n",
       "    </tr>\n",
       "    <tr>\n",
       "      <th>0</th>\n",
       "      <td>piezo_station_investigation_depth</td>\n",
       "      <td>213.302505</td>\n",
       "    </tr>\n",
       "    <tr>\n",
       "      <th>3</th>\n",
       "      <td>piezo_station_latitude</td>\n",
       "      <td>208.041046</td>\n",
       "    </tr>\n",
       "    <tr>\n",
       "      <th>2</th>\n",
       "      <td>piezo_station_longitude</td>\n",
       "      <td>201.016418</td>\n",
       "    </tr>\n",
       "    <tr>\n",
       "      <th>52</th>\n",
       "      <td>prelev_longitude_2</td>\n",
       "      <td>200.501602</td>\n",
       "    </tr>\n",
       "    <tr>\n",
       "      <th>8</th>\n",
       "      <td>meteo_altitude</td>\n",
       "      <td>196.719116</td>\n",
       "    </tr>\n",
       "    <tr>\n",
       "      <th>5</th>\n",
       "      <td>piezo_measure_nature_name</td>\n",
       "      <td>188.308075</td>\n",
       "    </tr>\n",
       "    <tr>\n",
       "      <th>59</th>\n",
       "      <td>insee_%_const</td>\n",
       "      <td>181.836151</td>\n",
       "    </tr>\n",
       "    <tr>\n",
       "      <th>1</th>\n",
       "      <td>piezo_station_altitude</td>\n",
       "      <td>181.275055</td>\n",
       "    </tr>\n",
       "    <tr>\n",
       "      <th>56</th>\n",
       "      <td>insee_pop_commune</td>\n",
       "      <td>179.617706</td>\n",
       "    </tr>\n",
       "    <tr>\n",
       "      <th>71</th>\n",
       "      <td>Sands</td>\n",
       "      <td>177.314926</td>\n",
       "    </tr>\n",
       "    <tr>\n",
       "      <th>57</th>\n",
       "      <td>insee_med_living_level</td>\n",
       "      <td>176.576279</td>\n",
       "    </tr>\n",
       "    <tr>\n",
       "      <th>55</th>\n",
       "      <td>insee_%_agri</td>\n",
       "      <td>176.452087</td>\n",
       "    </tr>\n",
       "    <tr>\n",
       "      <th>58</th>\n",
       "      <td>insee_%_ind</td>\n",
       "      <td>174.762253</td>\n",
       "    </tr>\n",
       "    <tr>\n",
       "      <th>41</th>\n",
       "      <td>distance_piezo_hydro</td>\n",
       "      <td>173.672729</td>\n",
       "    </tr>\n",
       "    <tr>\n",
       "      <th>43</th>\n",
       "      <td>prelev_usage_label_0</td>\n",
       "      <td>171.999741</td>\n",
       "    </tr>\n",
       "  </tbody>\n",
       "</table>\n",
       "</div>"
      ],
      "text/plain": [
       "                              Feature  Importance\n",
       "48                 prelev_longitude_1  380.471130\n",
       "62                               year  316.179932\n",
       "63                          Alluvions  301.569519\n",
       "69                              Other  263.127380\n",
       "7                     meteo_longitude  256.715637\n",
       "60                            day_sin  253.541962\n",
       "65                             Gravel  250.333847\n",
       "45                  prelev_latitude_0  244.237000\n",
       "66                         Limestones  240.191635\n",
       "67                              Marls  239.629242\n",
       "70             Paleogeological Epochs  236.744354\n",
       "64                           Basement  234.856781\n",
       "6                      meteo_latitude  232.340775\n",
       "68                             Massif  227.548676\n",
       "44                 prelev_longitude_0  225.497177\n",
       "0   piezo_station_investigation_depth  213.302505\n",
       "3              piezo_station_latitude  208.041046\n",
       "2             piezo_station_longitude  201.016418\n",
       "52                 prelev_longitude_2  200.501602\n",
       "8                      meteo_altitude  196.719116\n",
       "5           piezo_measure_nature_name  188.308075\n",
       "59                      insee_%_const  181.836151\n",
       "1              piezo_station_altitude  181.275055\n",
       "56                  insee_pop_commune  179.617706\n",
       "71                              Sands  177.314926\n",
       "57             insee_med_living_level  176.576279\n",
       "55                       insee_%_agri  176.452087\n",
       "58                        insee_%_ind  174.762253\n",
       "41               distance_piezo_hydro  173.672729\n",
       "43               prelev_usage_label_0  171.999741"
      ]
     },
     "execution_count": 49,
     "metadata": {},
     "output_type": "execute_result"
    }
   ],
   "source": [
    "importance_df.head(30)"
   ]
  }
 ],
 "metadata": {
  "kernelspec": {
   "display_name": "Python 3",
   "language": "python",
   "name": "python3"
  },
  "language_info": {
   "codemirror_mode": {
    "name": "ipython",
    "version": 3
   },
   "file_extension": ".py",
   "mimetype": "text/x-python",
   "name": "python",
   "nbconvert_exporter": "python",
   "pygments_lexer": "ipython3",
   "version": "3.11.3"
  },
  "orig_nbformat": 4
 },
 "nbformat": 4,
 "nbformat_minor": 2
}
